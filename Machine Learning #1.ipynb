{
 "cells": [
  {
   "cell_type": "markdown",
   "metadata": {},
   "source": [
    "# Binary Classification\n",
    "This exercise was done in 2018 as a take home test for a data science internship."
   ]
  },
  {
   "cell_type": "markdown",
   "metadata": {},
   "source": [
    "### Objective\n",
    "Predict if a customer will subscribe to a term deposit in a direct marketing campaign of a Portuguese banking institution."
   ]
  },
  {
   "cell_type": "markdown",
   "metadata": {},
   "source": [
    "### Data Source\n",
    "[Bank Marketing Data set](https://archive.ics.uci.edu/ml/datasets/Bank+Marketing) "
   ]
  },
  {
   "cell_type": "code",
   "execution_count": 1,
   "metadata": {
    "collapsed": true
   },
   "outputs": [],
   "source": [
    "# import libraries\n",
    "import pandas as pd\n",
    "import numpy as np\n",
    "from sklearn import preprocessing\n",
    "import matplotlib.pyplot as plt\n",
    "plt.rc(\"font\", size = 18)\n",
    "\n",
    "# allow plots to appear within the notebook\n",
    "%matplotlib inline\n",
    "\n",
    "import seaborn as sns\n",
    "sns.set(style=\"white\")\n",
    "sns.set(style=\"whitegrid\", color_codes=True)"
   ]
  },
  {
   "cell_type": "markdown",
   "metadata": {},
   "source": [
    "## Step 1: Data Understanding"
   ]
  },
  {
   "cell_type": "code",
   "execution_count": 2,
   "metadata": {},
   "outputs": [
    {
     "data": {
      "text/plain": [
       "(28831, 21)"
      ]
     },
     "execution_count": 2,
     "metadata": {},
     "output_type": "execute_result"
    }
   ],
   "source": [
    "# read in training dataset and examine its dimension\n",
    "trainset = pd.read_csv('./bank_deposit_term.csv',sep=';')\n",
    "trainset.shape"
   ]
  },
  {
   "cell_type": "code",
   "execution_count": 3,
   "metadata": {},
   "outputs": [
    {
     "data": {
      "text/html": [
       "<div>\n",
       "<style>\n",
       "    .dataframe thead tr:only-child th {\n",
       "        text-align: right;\n",
       "    }\n",
       "\n",
       "    .dataframe thead th {\n",
       "        text-align: left;\n",
       "    }\n",
       "\n",
       "    .dataframe tbody tr th {\n",
       "        vertical-align: top;\n",
       "    }\n",
       "</style>\n",
       "<table border=\"1\" class=\"dataframe\">\n",
       "  <thead>\n",
       "    <tr style=\"text-align: right;\">\n",
       "      <th></th>\n",
       "      <th>age</th>\n",
       "      <th>job</th>\n",
       "      <th>marital</th>\n",
       "      <th>education</th>\n",
       "      <th>default</th>\n",
       "      <th>housing</th>\n",
       "      <th>loan</th>\n",
       "      <th>contact</th>\n",
       "      <th>month</th>\n",
       "      <th>day_of_week</th>\n",
       "      <th>...</th>\n",
       "      <th>campaign</th>\n",
       "      <th>pdays</th>\n",
       "      <th>previous</th>\n",
       "      <th>poutcome</th>\n",
       "      <th>emp.var.rate</th>\n",
       "      <th>cons.price.idx</th>\n",
       "      <th>cons.conf.idx</th>\n",
       "      <th>euribor3m</th>\n",
       "      <th>nr.employed</th>\n",
       "      <th>y</th>\n",
       "    </tr>\n",
       "  </thead>\n",
       "  <tbody>\n",
       "    <tr>\n",
       "      <th>0</th>\n",
       "      <td>50</td>\n",
       "      <td>blue-collar</td>\n",
       "      <td>single</td>\n",
       "      <td>basic.4y</td>\n",
       "      <td>no</td>\n",
       "      <td>no</td>\n",
       "      <td>no</td>\n",
       "      <td>telephone</td>\n",
       "      <td>may</td>\n",
       "      <td>thu</td>\n",
       "      <td>...</td>\n",
       "      <td>2</td>\n",
       "      <td>999</td>\n",
       "      <td>0</td>\n",
       "      <td>nonexistent</td>\n",
       "      <td>1.1</td>\n",
       "      <td>93.994</td>\n",
       "      <td>-36.4</td>\n",
       "      <td>4.860</td>\n",
       "      <td>5191.0</td>\n",
       "      <td>no</td>\n",
       "    </tr>\n",
       "    <tr>\n",
       "      <th>1</th>\n",
       "      <td>51</td>\n",
       "      <td>services</td>\n",
       "      <td>married</td>\n",
       "      <td>professional.course</td>\n",
       "      <td>unknown</td>\n",
       "      <td>no</td>\n",
       "      <td>no</td>\n",
       "      <td>telephone</td>\n",
       "      <td>may</td>\n",
       "      <td>mon</td>\n",
       "      <td>...</td>\n",
       "      <td>5</td>\n",
       "      <td>999</td>\n",
       "      <td>0</td>\n",
       "      <td>nonexistent</td>\n",
       "      <td>1.1</td>\n",
       "      <td>93.994</td>\n",
       "      <td>-36.4</td>\n",
       "      <td>4.858</td>\n",
       "      <td>5191.0</td>\n",
       "      <td>no</td>\n",
       "    </tr>\n",
       "    <tr>\n",
       "      <th>2</th>\n",
       "      <td>46</td>\n",
       "      <td>technician</td>\n",
       "      <td>divorced</td>\n",
       "      <td>professional.course</td>\n",
       "      <td>no</td>\n",
       "      <td>yes</td>\n",
       "      <td>no</td>\n",
       "      <td>cellular</td>\n",
       "      <td>may</td>\n",
       "      <td>mon</td>\n",
       "      <td>...</td>\n",
       "      <td>2</td>\n",
       "      <td>999</td>\n",
       "      <td>0</td>\n",
       "      <td>nonexistent</td>\n",
       "      <td>-1.8</td>\n",
       "      <td>92.893</td>\n",
       "      <td>-46.2</td>\n",
       "      <td>1.244</td>\n",
       "      <td>5099.1</td>\n",
       "      <td>no</td>\n",
       "    </tr>\n",
       "    <tr>\n",
       "      <th>3</th>\n",
       "      <td>46</td>\n",
       "      <td>admin.</td>\n",
       "      <td>single</td>\n",
       "      <td>university.degree</td>\n",
       "      <td>no</td>\n",
       "      <td>yes</td>\n",
       "      <td>no</td>\n",
       "      <td>telephone</td>\n",
       "      <td>jun</td>\n",
       "      <td>mon</td>\n",
       "      <td>...</td>\n",
       "      <td>1</td>\n",
       "      <td>999</td>\n",
       "      <td>0</td>\n",
       "      <td>nonexistent</td>\n",
       "      <td>1.4</td>\n",
       "      <td>94.465</td>\n",
       "      <td>-41.8</td>\n",
       "      <td>4.961</td>\n",
       "      <td>5228.1</td>\n",
       "      <td>no</td>\n",
       "    </tr>\n",
       "    <tr>\n",
       "      <th>4</th>\n",
       "      <td>25</td>\n",
       "      <td>services</td>\n",
       "      <td>single</td>\n",
       "      <td>high.school</td>\n",
       "      <td>no</td>\n",
       "      <td>no</td>\n",
       "      <td>no</td>\n",
       "      <td>cellular</td>\n",
       "      <td>may</td>\n",
       "      <td>thu</td>\n",
       "      <td>...</td>\n",
       "      <td>5</td>\n",
       "      <td>999</td>\n",
       "      <td>0</td>\n",
       "      <td>nonexistent</td>\n",
       "      <td>-1.8</td>\n",
       "      <td>92.893</td>\n",
       "      <td>-46.2</td>\n",
       "      <td>1.266</td>\n",
       "      <td>5099.1</td>\n",
       "      <td>yes</td>\n",
       "    </tr>\n",
       "  </tbody>\n",
       "</table>\n",
       "<p>5 rows × 21 columns</p>\n",
       "</div>"
      ],
      "text/plain": [
       "   age          job   marital            education  default housing loan  \\\n",
       "0   50  blue-collar    single             basic.4y       no      no   no   \n",
       "1   51     services   married  professional.course  unknown      no   no   \n",
       "2   46   technician  divorced  professional.course       no     yes   no   \n",
       "3   46       admin.    single    university.degree       no     yes   no   \n",
       "4   25     services    single          high.school       no      no   no   \n",
       "\n",
       "     contact month day_of_week ...   campaign  pdays  previous     poutcome  \\\n",
       "0  telephone   may         thu ...          2    999         0  nonexistent   \n",
       "1  telephone   may         mon ...          5    999         0  nonexistent   \n",
       "2   cellular   may         mon ...          2    999         0  nonexistent   \n",
       "3  telephone   jun         mon ...          1    999         0  nonexistent   \n",
       "4   cellular   may         thu ...          5    999         0  nonexistent   \n",
       "\n",
       "  emp.var.rate  cons.price.idx  cons.conf.idx  euribor3m  nr.employed    y  \n",
       "0          1.1          93.994          -36.4      4.860       5191.0   no  \n",
       "1          1.1          93.994          -36.4      4.858       5191.0   no  \n",
       "2         -1.8          92.893          -46.2      1.244       5099.1   no  \n",
       "3          1.4          94.465          -41.8      4.961       5228.1   no  \n",
       "4         -1.8          92.893          -46.2      1.266       5099.1  yes  \n",
       "\n",
       "[5 rows x 21 columns]"
      ]
     },
     "execution_count": 3,
     "metadata": {},
     "output_type": "execute_result"
    }
   ],
   "source": [
    "# preliminary look at training dataset\n",
    "trainset.head(5)"
   ]
  },
  {
   "cell_type": "code",
   "execution_count": 4,
   "metadata": {
    "collapsed": true
   },
   "outputs": [],
   "source": [
    "# helper function to list descriptive statistics for each variable\n",
    "def examine_dataframe(df):\n",
    "    for name in df.columns:\n",
    "        print (\"-----------------------------------\")\n",
    "        if df[name].dtype is np.dtype('O'):\n",
    "            print (df[name].value_counts())\n",
    "        else:\n",
    "            print (df[name].describe())"
   ]
  },
  {
   "cell_type": "code",
   "execution_count": 5,
   "metadata": {},
   "outputs": [
    {
     "name": "stdout",
     "output_type": "stream",
     "text": [
      "-----------------------------------\n",
      "count    28831.000000\n",
      "mean        40.011550\n",
      "std         10.393815\n",
      "min         17.000000\n",
      "25%         32.000000\n",
      "50%         38.000000\n",
      "75%         47.000000\n",
      "max         98.000000\n",
      "Name: age, dtype: float64\n",
      "-----------------------------------\n",
      "admin.           7294\n",
      "blue-collar      6452\n",
      "technician       4754\n",
      "services         2797\n",
      "management       2063\n",
      "retired          1213\n",
      "entrepreneur      996\n",
      "self-employed     962\n",
      "housemaid         739\n",
      "unemployed        710\n",
      "student           611\n",
      "unknown           240\n",
      "Name: job, dtype: int64\n",
      "-----------------------------------\n",
      "married     17437\n",
      "single       8142\n",
      "divorced     3194\n",
      "unknown        58\n",
      "Name: marital, dtype: int64\n",
      "-----------------------------------\n",
      "university.degree      8518\n",
      "high.school            6690\n",
      "basic.9y               4218\n",
      "professional.course    3679\n",
      "basic.4y               2865\n",
      "basic.6y               1615\n",
      "unknown                1234\n",
      "illiterate               12\n",
      "Name: education, dtype: int64\n",
      "-----------------------------------\n",
      "no         22777\n",
      "unknown     6051\n",
      "yes            3\n",
      "Name: default, dtype: int64\n",
      "-----------------------------------\n",
      "yes        15111\n",
      "no         13013\n",
      "unknown      707\n",
      "Name: housing, dtype: int64\n",
      "-----------------------------------\n",
      "no         23701\n",
      "yes         4423\n",
      "unknown      707\n",
      "Name: loan, dtype: int64\n",
      "-----------------------------------\n",
      "cellular     18302\n",
      "telephone    10529\n",
      "Name: contact, dtype: int64\n",
      "-----------------------------------\n",
      "may    9646\n",
      "jul    5033\n",
      "aug    4365\n",
      "jun    3702\n",
      "nov    2847\n",
      "apr    1822\n",
      "oct     513\n",
      "sep     406\n",
      "mar     371\n",
      "dec     126\n",
      "Name: month, dtype: int64\n",
      "-----------------------------------\n",
      "thu    6024\n",
      "mon    5964\n",
      "wed    5669\n",
      "tue    5624\n",
      "fri    5550\n",
      "Name: day_of_week, dtype: int64\n",
      "-----------------------------------\n",
      "count    28831.000000\n",
      "mean       257.753321\n",
      "std        259.131337\n",
      "min          0.000000\n",
      "25%        102.000000\n",
      "50%        179.000000\n",
      "75%        318.000000\n",
      "max       4918.000000\n",
      "Name: duration, dtype: float64\n",
      "-----------------------------------\n",
      "count    28831.000000\n",
      "mean         2.557490\n",
      "std          2.753098\n",
      "min          1.000000\n",
      "25%          1.000000\n",
      "50%          2.000000\n",
      "75%          3.000000\n",
      "max         56.000000\n",
      "Name: campaign, dtype: float64\n",
      "-----------------------------------\n",
      "count    28831.00000\n",
      "mean       961.21789\n",
      "std        189.97666\n",
      "min          0.00000\n",
      "25%        999.00000\n",
      "50%        999.00000\n",
      "75%        999.00000\n",
      "max        999.00000\n",
      "Name: pdays, dtype: float64\n",
      "-----------------------------------\n",
      "count    28831.000000\n",
      "mean         0.176060\n",
      "std          0.501829\n",
      "min          0.000000\n",
      "25%          0.000000\n",
      "50%          0.000000\n",
      "75%          0.000000\n",
      "max          7.000000\n",
      "Name: previous, dtype: float64\n",
      "-----------------------------------\n",
      "nonexistent    24838\n",
      "failure         3003\n",
      "success          990\n",
      "Name: poutcome, dtype: int64\n",
      "-----------------------------------\n",
      "count    28831.000000\n",
      "mean         0.082286\n",
      "std          1.570243\n",
      "min         -3.400000\n",
      "25%         -1.800000\n",
      "50%          1.100000\n",
      "75%          1.400000\n",
      "max          1.400000\n",
      "Name: emp.var.rate, dtype: float64\n",
      "-----------------------------------\n",
      "count    28831.000000\n",
      "mean        93.576028\n",
      "std          0.578345\n",
      "min         92.201000\n",
      "25%         93.075000\n",
      "50%         93.749000\n",
      "75%         93.994000\n",
      "max         94.767000\n",
      "Name: cons.price.idx, dtype: float64\n",
      "-----------------------------------\n",
      "count    28831.000000\n",
      "mean       -40.503906\n",
      "std          4.624344\n",
      "min        -50.800000\n",
      "25%        -42.700000\n",
      "50%        -41.800000\n",
      "75%        -36.400000\n",
      "max        -26.900000\n",
      "Name: cons.conf.idx, dtype: float64\n",
      "-----------------------------------\n",
      "count    28831.000000\n",
      "mean         3.619137\n",
      "std          1.735812\n",
      "min          0.634000\n",
      "25%          1.344000\n",
      "50%          4.857000\n",
      "75%          4.961000\n",
      "max          5.045000\n",
      "Name: euribor3m, dtype: float64\n",
      "-----------------------------------\n",
      "count    28831.000000\n",
      "mean      5166.924661\n",
      "std         72.472903\n",
      "min       4963.600000\n",
      "25%       5099.100000\n",
      "50%       5191.000000\n",
      "75%       5228.100000\n",
      "max       5228.100000\n",
      "Name: nr.employed, dtype: float64\n",
      "-----------------------------------\n",
      "no     25583\n",
      "yes     3248\n",
      "Name: y, dtype: int64\n"
     ]
    }
   ],
   "source": [
    "# descriptive statistics of each variable in training dataset\n",
    "examine_dataframe(trainset)"
   ]
  },
  {
   "cell_type": "markdown",
   "metadata": {},
   "source": [
    "One main observation from the above is the distribution of y in the training dataset is very imbalanced - no. of \"yes\" is only at about **11% (minority)** as compared to **89% of \"no\" (majority)**. Caution has to be taken in model building and evaluation, further details follow."
   ]
  },
  {
   "cell_type": "code",
   "execution_count": 6,
   "metadata": {},
   "outputs": [
    {
     "data": {
      "text/plain": [
       "age               0\n",
       "job               0\n",
       "marital           0\n",
       "education         0\n",
       "default           0\n",
       "housing           0\n",
       "loan              0\n",
       "contact           0\n",
       "month             0\n",
       "day_of_week       0\n",
       "duration          0\n",
       "campaign          0\n",
       "pdays             0\n",
       "previous          0\n",
       "poutcome          0\n",
       "emp.var.rate      0\n",
       "cons.price.idx    0\n",
       "cons.conf.idx     0\n",
       "euribor3m         0\n",
       "nr.employed       0\n",
       "y                 0\n",
       "dtype: int64"
      ]
     },
     "execution_count": 6,
     "metadata": {},
     "output_type": "execute_result"
    }
   ],
   "source": [
    "# check for missing value in training dataset\n",
    "trainset.isnull().sum()"
   ]
  },
  {
   "cell_type": "code",
   "execution_count": 7,
   "metadata": {
    "scrolled": true
   },
   "outputs": [
    {
     "data": {
      "text/html": [
       "<div>\n",
       "<style>\n",
       "    .dataframe thead tr:only-child th {\n",
       "        text-align: right;\n",
       "    }\n",
       "\n",
       "    .dataframe thead th {\n",
       "        text-align: left;\n",
       "    }\n",
       "\n",
       "    .dataframe tbody tr th {\n",
       "        vertical-align: top;\n",
       "    }\n",
       "</style>\n",
       "<table border=\"1\" class=\"dataframe\">\n",
       "  <thead>\n",
       "    <tr style=\"text-align: right;\">\n",
       "      <th></th>\n",
       "      <th>age</th>\n",
       "      <th>duration</th>\n",
       "      <th>campaign</th>\n",
       "      <th>pdays</th>\n",
       "      <th>previous</th>\n",
       "      <th>emp.var.rate</th>\n",
       "      <th>cons.price.idx</th>\n",
       "      <th>cons.conf.idx</th>\n",
       "      <th>euribor3m</th>\n",
       "      <th>nr.employed</th>\n",
       "    </tr>\n",
       "    <tr>\n",
       "      <th>y</th>\n",
       "      <th></th>\n",
       "      <th></th>\n",
       "      <th></th>\n",
       "      <th></th>\n",
       "      <th></th>\n",
       "      <th></th>\n",
       "      <th></th>\n",
       "      <th></th>\n",
       "      <th></th>\n",
       "      <th></th>\n",
       "    </tr>\n",
       "  </thead>\n",
       "  <tbody>\n",
       "    <tr>\n",
       "      <th>no</th>\n",
       "      <td>39.901575</td>\n",
       "      <td>220.148732</td>\n",
       "      <td>2.621741</td>\n",
       "      <td>983.242153</td>\n",
       "      <td>0.134777</td>\n",
       "      <td>0.245671</td>\n",
       "      <td>93.603019</td>\n",
       "      <td>-40.596271</td>\n",
       "      <td>3.805555</td>\n",
       "      <td>5175.936712</td>\n",
       "    </tr>\n",
       "    <tr>\n",
       "      <th>yes</th>\n",
       "      <td>40.877771</td>\n",
       "      <td>553.947352</td>\n",
       "      <td>2.051416</td>\n",
       "      <td>787.742919</td>\n",
       "      <td>0.501232</td>\n",
       "      <td>-1.204618</td>\n",
       "      <td>93.363428</td>\n",
       "      <td>-39.776385</td>\n",
       "      <td>2.150807</td>\n",
       "      <td>5095.940887</td>\n",
       "    </tr>\n",
       "  </tbody>\n",
       "</table>\n",
       "</div>"
      ],
      "text/plain": [
       "           age    duration  campaign       pdays  previous  emp.var.rate  \\\n",
       "y                                                                          \n",
       "no   39.901575  220.148732  2.621741  983.242153  0.134777      0.245671   \n",
       "yes  40.877771  553.947352  2.051416  787.742919  0.501232     -1.204618   \n",
       "\n",
       "     cons.price.idx  cons.conf.idx  euribor3m  nr.employed  \n",
       "y                                                           \n",
       "no        93.603019     -40.596271   3.805555  5175.936712  \n",
       "yes       93.363428     -39.776385   2.150807  5095.940887  "
      ]
     },
     "execution_count": 7,
     "metadata": {},
     "output_type": "execute_result"
    }
   ],
   "source": [
    "# since y is highly imbalanced, it may be good to see how each numerical variable varies with y\n",
    "trainset.groupby('y').mean()"
   ]
  },
  {
   "cell_type": "markdown",
   "metadata": {},
   "source": [
    "Few observations:\n",
    "1. Clients who subscribed to the term deposit are of the average age of 41, whereas those that did not subscribe are slightly younger.\n",
    "2. The duration of last contact with client seems to suggest, the longer the duration the more likely it is client will subscribe. It is reflective of actual scenario as longer conversation will take place if there is interest from client on the product offered.\n",
    "3. The numbers in variable \"pdays\" need to further looked into as there are many instances of 999 - which represents no contact were previously made to a client."
   ]
  },
  {
   "cell_type": "code",
   "execution_count": 8,
   "metadata": {},
   "outputs": [
    {
     "data": {
      "text/plain": [
       "Text(0,0.5,'Frequency')"
      ]
     },
     "execution_count": 8,
     "metadata": {},
     "output_type": "execute_result"
    },
    {
     "data": {
      "image/png": "[encoded data removed]",
      "text/plain": [
       "<matplotlib.figure.Figure at 0x1c787d07b70>"
      ]
     },
     "metadata": {},
     "output_type": "display_data"
    }
   ],
   "source": [
    "# plot histogram for variable \"age\"\n",
    "trainset.age.hist()\n",
    "plt.title('Histogram of Age')\n",
    "plt.xlabel('Age')\n",
    "plt.ylabel('Frequency')"
   ]
  },
  {
   "cell_type": "markdown",
   "metadata": {},
   "source": [
    "Majority of the client base in the bank belongs to **age group between 30 - 40**."
   ]
  },
  {
   "cell_type": "code",
   "execution_count": 9,
   "metadata": {},
   "outputs": [
    {
     "data": {
      "text/plain": [
       "Text(0,0.5,'Frequency of Subscription')"
      ]
     },
     "execution_count": 9,
     "metadata": {},
     "output_type": "execute_result"
    },
    {
     "data": {
      "image/png": "[encoded data removed]",
      "text/plain": [
       "<matplotlib.figure.Figure at 0x1c787e98f98>"
      ]
     },
     "metadata": {},
     "output_type": "display_data"
    }
   ],
   "source": [
    "# several categorical variables are selected to examine how each of their distribution varies with y\n",
    "# firstly, \"job\" variable\n",
    "pd.crosstab(trainset.job, trainset.y).plot(kind='bar', colormap='Spectral')\n",
    "plt.title('Term Deposit Subscription by Job Types')\n",
    "plt.xlabel('Job')\n",
    "plt.ylabel('Frequency of Subscription')"
   ]
  },
  {
   "cell_type": "markdown",
   "metadata": {},
   "source": [
    "Amongst the different types of occupations, a larger proportion of clients work in **admin**, **blue-collar** and **technician** jobs. It is also observed that clients who have **retired** are more inclined to purchase term deposit, attributed by its higher proportion (comparing retiree who subscribed and did not subscribe to term deposit). "
   ]
  },
  {
   "cell_type": "code",
   "execution_count": 10,
   "metadata": {},
   "outputs": [
    {
     "data": {
      "text/plain": [
       "Text(0,0.5,'Frequency of Subscription')"
      ]
     },
     "execution_count": 10,
     "metadata": {},
     "output_type": "execute_result"
    },
    {
     "data": {
      "image/png": "[encoded data removed]",
      "text/plain": [
       "<matplotlib.figure.Figure at 0x1c7883fb710>"
      ]
     },
     "metadata": {},
     "output_type": "display_data"
    }
   ],
   "source": [
    "# \"marital\" variable\n",
    "pd.crosstab(trainset.marital, trainset.y).plot(kind='bar', colormap='Spectral')\n",
    "plt.title('Term Deposit Subscription by Marital Status')\n",
    "plt.xlabel('Marital Status')\n",
    "plt.ylabel('Frequency of Subscription')"
   ]
  },
  {
   "cell_type": "markdown",
   "metadata": {},
   "source": [
    "Most of the clients are **married**. Clients who are **single** seem to be more inclined to subscribing term deposit. One of the reasons could be married couples tend to have more economic responsibilities (housing, children's education, etc.) and may not be willing to lock in substantial amount of money as term deposit."
   ]
  },
  {
   "cell_type": "code",
   "execution_count": 11,
   "metadata": {},
   "outputs": [
    {
     "data": {
      "text/plain": [
       "Text(0,0.5,'Frequency of Subscription')"
      ]
     },
     "execution_count": 11,
     "metadata": {},
     "output_type": "execute_result"
    },
    {
     "data": {
      "image/png": "[encoded data removed]",
      "text/plain": [
       "<matplotlib.figure.Figure at 0x1c7884102b0>"
      ]
     },
     "metadata": {},
     "output_type": "display_data"
    }
   ],
   "source": [
    "# \"education\" variable\n",
    "pd.crosstab(trainset.education, trainset.y).plot(kind='bar', colormap='Spectral')\n",
    "plt.title('Term Deposit Subscription by Education Level')\n",
    "plt.xlabel('Education Level')\n",
    "plt.ylabel('Frequency of Subscription')"
   ]
  },
  {
   "cell_type": "markdown",
   "metadata": {},
   "source": [
    "Clients in the bank have varying education level. Clients with **university degree** subscribed more to term deposit. Most entry-level employees now hold a degree and command good salaries, thus leading to more allowance to set aside some monies to be put as term deposit (with higher interest rate as compared to normal savings) for future savings."
   ]
  },
  {
   "cell_type": "code",
   "execution_count": 12,
   "metadata": {},
   "outputs": [
    {
     "data": {
      "text/plain": [
       "Text(0,0.5,'Frequency of Subscription')"
      ]
     },
     "execution_count": 12,
     "metadata": {},
     "output_type": "execute_result"
    },
    {
     "data": {
      "image/png": "[encoded data removed]",
      "text/plain": [
       "<matplotlib.figure.Figure at 0x1c787fdd2e8>"
      ]
     },
     "metadata": {},
     "output_type": "display_data"
    }
   ],
   "source": [
    "# \"month\" variable\n",
    "pd.crosstab(trainset.month,trainset.y).plot(kind='bar', colormap='Spectral')\n",
    "plt.title('Subscription Frequency by Month')\n",
    "plt.xlabel('Month')\n",
    "plt.ylabel('Frequency of Subscription')"
   ]
  },
  {
   "cell_type": "markdown",
   "metadata": {},
   "source": [
    "The spike in May seems to suggest there was a marketing campaign or product launch held, where more clients have been reached out, leading to higher subscription as compared to other months. Note that there is no data in January and February."
   ]
  },
  {
   "cell_type": "code",
   "execution_count": 13,
   "metadata": {},
   "outputs": [
    {
     "data": {
      "text/plain": [
       "Text(0,0.5,'Frequency of Subscription')"
      ]
     },
     "execution_count": 13,
     "metadata": {},
     "output_type": "execute_result"
    },
    {
     "data": {
      "image/png": "[encoded data removed]",
      "text/plain": [
       "<matplotlib.figure.Figure at 0x1c788556860>"
      ]
     },
     "metadata": {},
     "output_type": "display_data"
    }
   ],
   "source": [
    "# \"poutcome\" variable\n",
    "pd.crosstab(trainset.poutcome,trainset.y).plot(kind='bar', colormap='Spectral')\n",
    "plt.title('Subscription Frequency Given Outcome from Previous Campaign')\n",
    "plt.xlabel('Outcome from Previous Campaign')\n",
    "plt.ylabel('Frequency of Subscription')"
   ]
  },
  {
   "cell_type": "markdown",
   "metadata": {},
   "source": [
    "Most clients have not been approached before in previous campaign. A different product may have been launched in previous campaign and these clients are not targeted for marketing. They are the targeted clients in this campaign for term deposit and thus more subscriptions resulted from this group of clients."
   ]
  },
  {
   "cell_type": "code",
   "execution_count": 14,
   "metadata": {},
   "outputs": [
    {
     "data": {
      "text/plain": [
       "<matplotlib.axes._subplots.AxesSubplot at 0x1c7885ea908>"
      ]
     },
     "execution_count": 14,
     "metadata": {},
     "output_type": "execute_result"
    },
    {
     "data": {
      "image/png": "[encoded data removed]",
      "text/plain": [
       "<matplotlib.figure.Figure at 0x1c7884ce358>"
      ]
     },
     "metadata": {},
     "output_type": "display_data"
    }
   ],
   "source": [
    "# check for any significant correlation between numerical variables\n",
    "corr = trainset.corr()\n",
    "sns.heatmap(corr, xticklabels=corr.columns.values, yticklabels=corr.columns.values, cmap=\"YlGnBu\")"
   ]
  },
  {
   "cell_type": "markdown",
   "metadata": {},
   "source": [
    "From the above plot, most of the numerical variables seem alright. The variable \"previous\" and \"pdays\" are quite negatively correlated, these variables are further studied for feature engineering in the next section."
   ]
  },
  {
   "cell_type": "markdown",
   "metadata": {},
   "source": [
    "## Step 2: Feature Engineering"
   ]
  },
  {
   "cell_type": "code",
   "execution_count": 15,
   "metadata": {
    "collapsed": true
   },
   "outputs": [],
   "source": [
    "# change binary y into numeric \"0\" and \"1\"\n",
    "trainset['y'] = trainset.y.map({'no':0, 'yes':1})"
   ]
  },
  {
   "cell_type": "code",
   "execution_count": 16,
   "metadata": {},
   "outputs": [
    {
     "data": {
      "text/plain": [
       "array(['basic', 'professional.course', 'university.degree', 'high.school',\n",
       "       'unknown', 'illiterate'], dtype=object)"
      ]
     },
     "execution_count": 16,
     "metadata": {},
     "output_type": "execute_result"
    }
   ],
   "source": [
    "# recategorise levels in \"education\" variable\n",
    "trainset['education']=np.where(trainset['education'] =='basic.9y', 'basic', trainset['education'])\n",
    "trainset['education']=np.where(trainset['education'] =='basic.6y', 'basic', trainset['education'])\n",
    "trainset['education']=np.where(trainset['education'] =='basic.4y', 'basic', trainset['education'])\n",
    "trainset['education'].unique()"
   ]
  },
  {
   "cell_type": "code",
   "execution_count": 17,
   "metadata": {
    "collapsed": true
   },
   "outputs": [],
   "source": [
    "# create 2 new variables as it is discovered within the training dataset, where client who has not been contacted before (indicated as 999 in \"pdays\" and 0 in \"previous\") is \"nonexistent\" in \"poutcome\".\n",
    "# by doing so, the columns \"pdays\" and \"poutcome_nonexistent\" can be eliminated\n",
    "\n",
    "# variable \"new\" - client that has not been contacted before on previous campaigns\n",
    "# variable \"recent_prev\" - client that has been contacted before recently in a previous campaign\n",
    "\n",
    "trainset['new'] = 0\n",
    "trainset['recent_prev'] = 0\n",
    "trainset.loc[(trainset['previous'] == 0) & (trainset['pdays'] == 999) ,'new'] = 1\n",
    "trainset.loc[trainset['pdays'] < 999,'recent_prev'] = 1"
   ]
  },
  {
   "cell_type": "code",
   "execution_count": 18,
   "metadata": {},
   "outputs": [
    {
     "name": "stderr",
     "output_type": "stream",
     "text": [
      "C:\\Users\\Jolyn\\Anaconda3\\lib\\site-packages\\ipykernel_launcher.py:15: SettingWithCopyWarning: \n",
      "A value is trying to be set on a copy of a slice from a DataFrame\n",
      "\n",
      "See the caveats in the documentation: http://pandas.pydata.org/pandas-docs/stable/indexing.html#indexing-view-versus-copy\n",
      "  from ipykernel import kernelapp as app\n"
     ]
    }
   ],
   "source": [
    "# one-hot encoding to transform all categorical variables to numerical variables\n",
    "cat_vars=['job','marital','education','default','housing','loan','contact','month','poutcome']\n",
    "for var in cat_vars:\n",
    "    cat_list='var'+'_'+var\n",
    "    cat_list = pd.get_dummies(trainset[var], prefix=var)\n",
    "    train_dummy = trainset.join(cat_list)\n",
    "    trainset = train_dummy\n",
    "    \n",
    "train_vars = trainset.columns.values.tolist()\n",
    "train_keep = [i for i in train_vars if i not in cat_vars]\n",
    "train_final = trainset[train_keep]\n",
    "\n",
    "# remove unwanted columns in training dataset\n",
    "# column \"default_yes\" is dropped as there are only 3 instances in training set and 0 instance in test set.\n",
    "train_final.drop(['day_of_week', 'pdays', 'job_unknown', 'marital_unknown', 'education_unknown', 'default_yes','poutcome_nonexistent'], axis=1, inplace=True)"
   ]
  },
  {
   "cell_type": "code",
   "execution_count": 19,
   "metadata": {},
   "outputs": [
    {
     "data": {
      "text/html": [
       "<div>\n",
       "<style>\n",
       "    .dataframe thead tr:only-child th {\n",
       "        text-align: right;\n",
       "    }\n",
       "\n",
       "    .dataframe thead th {\n",
       "        text-align: left;\n",
       "    }\n",
       "\n",
       "    .dataframe tbody tr th {\n",
       "        vertical-align: top;\n",
       "    }\n",
       "</style>\n",
       "<table border=\"1\" class=\"dataframe\">\n",
       "  <thead>\n",
       "    <tr style=\"text-align: right;\">\n",
       "      <th></th>\n",
       "      <th>age</th>\n",
       "      <th>duration</th>\n",
       "      <th>campaign</th>\n",
       "      <th>previous</th>\n",
       "      <th>emp.var.rate</th>\n",
       "      <th>cons.price.idx</th>\n",
       "      <th>cons.conf.idx</th>\n",
       "      <th>euribor3m</th>\n",
       "      <th>nr.employed</th>\n",
       "      <th>y</th>\n",
       "      <th>...</th>\n",
       "      <th>month_dec</th>\n",
       "      <th>month_jul</th>\n",
       "      <th>month_jun</th>\n",
       "      <th>month_mar</th>\n",
       "      <th>month_may</th>\n",
       "      <th>month_nov</th>\n",
       "      <th>month_oct</th>\n",
       "      <th>month_sep</th>\n",
       "      <th>poutcome_failure</th>\n",
       "      <th>poutcome_success</th>\n",
       "    </tr>\n",
       "  </thead>\n",
       "  <tbody>\n",
       "    <tr>\n",
       "      <th>0</th>\n",
       "      <td>50</td>\n",
       "      <td>152</td>\n",
       "      <td>2</td>\n",
       "      <td>0</td>\n",
       "      <td>1.1</td>\n",
       "      <td>93.994</td>\n",
       "      <td>-36.4</td>\n",
       "      <td>4.860</td>\n",
       "      <td>5191.0</td>\n",
       "      <td>0</td>\n",
       "      <td>...</td>\n",
       "      <td>0</td>\n",
       "      <td>0</td>\n",
       "      <td>0</td>\n",
       "      <td>0</td>\n",
       "      <td>1</td>\n",
       "      <td>0</td>\n",
       "      <td>0</td>\n",
       "      <td>0</td>\n",
       "      <td>0</td>\n",
       "      <td>0</td>\n",
       "    </tr>\n",
       "    <tr>\n",
       "      <th>1</th>\n",
       "      <td>51</td>\n",
       "      <td>158</td>\n",
       "      <td>5</td>\n",
       "      <td>0</td>\n",
       "      <td>1.1</td>\n",
       "      <td>93.994</td>\n",
       "      <td>-36.4</td>\n",
       "      <td>4.858</td>\n",
       "      <td>5191.0</td>\n",
       "      <td>0</td>\n",
       "      <td>...</td>\n",
       "      <td>0</td>\n",
       "      <td>0</td>\n",
       "      <td>0</td>\n",
       "      <td>0</td>\n",
       "      <td>1</td>\n",
       "      <td>0</td>\n",
       "      <td>0</td>\n",
       "      <td>0</td>\n",
       "      <td>0</td>\n",
       "      <td>0</td>\n",
       "    </tr>\n",
       "    <tr>\n",
       "      <th>2</th>\n",
       "      <td>46</td>\n",
       "      <td>214</td>\n",
       "      <td>2</td>\n",
       "      <td>0</td>\n",
       "      <td>-1.8</td>\n",
       "      <td>92.893</td>\n",
       "      <td>-46.2</td>\n",
       "      <td>1.244</td>\n",
       "      <td>5099.1</td>\n",
       "      <td>0</td>\n",
       "      <td>...</td>\n",
       "      <td>0</td>\n",
       "      <td>0</td>\n",
       "      <td>0</td>\n",
       "      <td>0</td>\n",
       "      <td>1</td>\n",
       "      <td>0</td>\n",
       "      <td>0</td>\n",
       "      <td>0</td>\n",
       "      <td>0</td>\n",
       "      <td>0</td>\n",
       "    </tr>\n",
       "    <tr>\n",
       "      <th>3</th>\n",
       "      <td>46</td>\n",
       "      <td>24</td>\n",
       "      <td>1</td>\n",
       "      <td>0</td>\n",
       "      <td>1.4</td>\n",
       "      <td>94.465</td>\n",
       "      <td>-41.8</td>\n",
       "      <td>4.961</td>\n",
       "      <td>5228.1</td>\n",
       "      <td>0</td>\n",
       "      <td>...</td>\n",
       "      <td>0</td>\n",
       "      <td>0</td>\n",
       "      <td>1</td>\n",
       "      <td>0</td>\n",
       "      <td>0</td>\n",
       "      <td>0</td>\n",
       "      <td>0</td>\n",
       "      <td>0</td>\n",
       "      <td>0</td>\n",
       "      <td>0</td>\n",
       "    </tr>\n",
       "    <tr>\n",
       "      <th>4</th>\n",
       "      <td>25</td>\n",
       "      <td>646</td>\n",
       "      <td>5</td>\n",
       "      <td>0</td>\n",
       "      <td>-1.8</td>\n",
       "      <td>92.893</td>\n",
       "      <td>-46.2</td>\n",
       "      <td>1.266</td>\n",
       "      <td>5099.1</td>\n",
       "      <td>1</td>\n",
       "      <td>...</td>\n",
       "      <td>0</td>\n",
       "      <td>0</td>\n",
       "      <td>0</td>\n",
       "      <td>0</td>\n",
       "      <td>1</td>\n",
       "      <td>0</td>\n",
       "      <td>0</td>\n",
       "      <td>0</td>\n",
       "      <td>0</td>\n",
       "      <td>0</td>\n",
       "    </tr>\n",
       "  </tbody>\n",
       "</table>\n",
       "<p>5 rows × 53 columns</p>\n",
       "</div>"
      ],
      "text/plain": [
       "   age  duration  campaign  previous  emp.var.rate  cons.price.idx  \\\n",
       "0   50       152         2         0           1.1          93.994   \n",
       "1   51       158         5         0           1.1          93.994   \n",
       "2   46       214         2         0          -1.8          92.893   \n",
       "3   46        24         1         0           1.4          94.465   \n",
       "4   25       646         5         0          -1.8          92.893   \n",
       "\n",
       "   cons.conf.idx  euribor3m  nr.employed  y        ...         month_dec  \\\n",
       "0          -36.4      4.860       5191.0  0        ...                 0   \n",
       "1          -36.4      4.858       5191.0  0        ...                 0   \n",
       "2          -46.2      1.244       5099.1  0        ...                 0   \n",
       "3          -41.8      4.961       5228.1  0        ...                 0   \n",
       "4          -46.2      1.266       5099.1  1        ...                 0   \n",
       "\n",
       "   month_jul  month_jun  month_mar  month_may  month_nov  month_oct  \\\n",
       "0          0          0          0          1          0          0   \n",
       "1          0          0          0          1          0          0   \n",
       "2          0          0          0          1          0          0   \n",
       "3          0          1          0          0          0          0   \n",
       "4          0          0          0          1          0          0   \n",
       "\n",
       "   month_sep  poutcome_failure  poutcome_success  \n",
       "0          0                 0                 0  \n",
       "1          0                 0                 0  \n",
       "2          0                 0                 0  \n",
       "3          0                 0                 0  \n",
       "4          0                 0                 0  \n",
       "\n",
       "[5 rows x 53 columns]"
      ]
     },
     "execution_count": 19,
     "metadata": {},
     "output_type": "execute_result"
    }
   ],
   "source": [
    "train_final.head(5)"
   ]
  },
  {
   "cell_type": "code",
   "execution_count": 20,
   "metadata": {},
   "outputs": [
    {
     "data": {
      "text/plain": [
       "array(['age', 'duration', 'campaign', 'previous', 'emp.var.rate',\n",
       "       'cons.price.idx', 'cons.conf.idx', 'euribor3m', 'nr.employed', 'y',\n",
       "       'new', 'recent_prev', 'job_admin.', 'job_blue-collar',\n",
       "       'job_entrepreneur', 'job_housemaid', 'job_management',\n",
       "       'job_retired', 'job_self-employed', 'job_services', 'job_student',\n",
       "       'job_technician', 'job_unemployed', 'marital_divorced',\n",
       "       'marital_married', 'marital_single', 'education_basic',\n",
       "       'education_high.school', 'education_illiterate',\n",
       "       'education_professional.course', 'education_university.degree',\n",
       "       'default_no', 'default_unknown', 'housing_no', 'housing_unknown',\n",
       "       'housing_yes', 'loan_no', 'loan_unknown', 'loan_yes',\n",
       "       'contact_cellular', 'contact_telephone', 'month_apr', 'month_aug',\n",
       "       'month_dec', 'month_jul', 'month_jun', 'month_mar', 'month_may',\n",
       "       'month_nov', 'month_oct', 'month_sep', 'poutcome_failure',\n",
       "       'poutcome_success'], dtype=object)"
      ]
     },
     "execution_count": 20,
     "metadata": {},
     "output_type": "execute_result"
    }
   ],
   "source": [
    "train_final.columns.values"
   ]
  },
  {
   "cell_type": "code",
   "execution_count": 21,
   "metadata": {},
   "outputs": [
    {
     "data": {
      "text/plain": [
       "(12357, 20)"
      ]
     },
     "execution_count": 21,
     "metadata": {},
     "output_type": "execute_result"
    }
   ],
   "source": [
    "# read in testing dataset and examine its dimension\n",
    "testset = pd.read_csv('./bank_deposit_term_test.csv',sep=';')\n",
    "testset.shape"
   ]
  },
  {
   "cell_type": "code",
   "execution_count": 22,
   "metadata": {},
   "outputs": [
    {
     "data": {
      "text/html": [
       "<div>\n",
       "<style>\n",
       "    .dataframe thead tr:only-child th {\n",
       "        text-align: right;\n",
       "    }\n",
       "\n",
       "    .dataframe thead th {\n",
       "        text-align: left;\n",
       "    }\n",
       "\n",
       "    .dataframe tbody tr th {\n",
       "        vertical-align: top;\n",
       "    }\n",
       "</style>\n",
       "<table border=\"1\" class=\"dataframe\">\n",
       "  <thead>\n",
       "    <tr style=\"text-align: right;\">\n",
       "      <th></th>\n",
       "      <th>age</th>\n",
       "      <th>job</th>\n",
       "      <th>marital</th>\n",
       "      <th>education</th>\n",
       "      <th>default</th>\n",
       "      <th>housing</th>\n",
       "      <th>loan</th>\n",
       "      <th>contact</th>\n",
       "      <th>month</th>\n",
       "      <th>day_of_week</th>\n",
       "      <th>duration</th>\n",
       "      <th>campaign</th>\n",
       "      <th>pdays</th>\n",
       "      <th>previous</th>\n",
       "      <th>poutcome</th>\n",
       "      <th>emp.var.rate</th>\n",
       "      <th>cons.price.idx</th>\n",
       "      <th>cons.conf.idx</th>\n",
       "      <th>euribor3m</th>\n",
       "      <th>nr.employed</th>\n",
       "    </tr>\n",
       "  </thead>\n",
       "  <tbody>\n",
       "    <tr>\n",
       "      <th>0</th>\n",
       "      <td>49</td>\n",
       "      <td>technician</td>\n",
       "      <td>divorced</td>\n",
       "      <td>unknown</td>\n",
       "      <td>no</td>\n",
       "      <td>no</td>\n",
       "      <td>no</td>\n",
       "      <td>telephone</td>\n",
       "      <td>jun</td>\n",
       "      <td>wed</td>\n",
       "      <td>41</td>\n",
       "      <td>1</td>\n",
       "      <td>999</td>\n",
       "      <td>0</td>\n",
       "      <td>nonexistent</td>\n",
       "      <td>1.4</td>\n",
       "      <td>94.465</td>\n",
       "      <td>-41.8</td>\n",
       "      <td>4.959</td>\n",
       "      <td>5228.1</td>\n",
       "    </tr>\n",
       "    <tr>\n",
       "      <th>1</th>\n",
       "      <td>56</td>\n",
       "      <td>blue-collar</td>\n",
       "      <td>married</td>\n",
       "      <td>basic.9y</td>\n",
       "      <td>unknown</td>\n",
       "      <td>yes</td>\n",
       "      <td>no</td>\n",
       "      <td>telephone</td>\n",
       "      <td>may</td>\n",
       "      <td>thu</td>\n",
       "      <td>151</td>\n",
       "      <td>2</td>\n",
       "      <td>999</td>\n",
       "      <td>0</td>\n",
       "      <td>nonexistent</td>\n",
       "      <td>1.1</td>\n",
       "      <td>93.994</td>\n",
       "      <td>-36.4</td>\n",
       "      <td>4.860</td>\n",
       "      <td>5191.0</td>\n",
       "    </tr>\n",
       "    <tr>\n",
       "      <th>2</th>\n",
       "      <td>35</td>\n",
       "      <td>technician</td>\n",
       "      <td>single</td>\n",
       "      <td>professional.course</td>\n",
       "      <td>no</td>\n",
       "      <td>no</td>\n",
       "      <td>no</td>\n",
       "      <td>telephone</td>\n",
       "      <td>jun</td>\n",
       "      <td>fri</td>\n",
       "      <td>397</td>\n",
       "      <td>1</td>\n",
       "      <td>999</td>\n",
       "      <td>0</td>\n",
       "      <td>nonexistent</td>\n",
       "      <td>1.4</td>\n",
       "      <td>94.465</td>\n",
       "      <td>-41.8</td>\n",
       "      <td>4.947</td>\n",
       "      <td>5228.1</td>\n",
       "    </tr>\n",
       "    <tr>\n",
       "      <th>3</th>\n",
       "      <td>32</td>\n",
       "      <td>blue-collar</td>\n",
       "      <td>married</td>\n",
       "      <td>basic.9y</td>\n",
       "      <td>unknown</td>\n",
       "      <td>no</td>\n",
       "      <td>no</td>\n",
       "      <td>telephone</td>\n",
       "      <td>may</td>\n",
       "      <td>fri</td>\n",
       "      <td>180</td>\n",
       "      <td>2</td>\n",
       "      <td>999</td>\n",
       "      <td>0</td>\n",
       "      <td>nonexistent</td>\n",
       "      <td>1.1</td>\n",
       "      <td>93.994</td>\n",
       "      <td>-36.4</td>\n",
       "      <td>4.855</td>\n",
       "      <td>5191.0</td>\n",
       "    </tr>\n",
       "    <tr>\n",
       "      <th>4</th>\n",
       "      <td>27</td>\n",
       "      <td>unknown</td>\n",
       "      <td>single</td>\n",
       "      <td>university.degree</td>\n",
       "      <td>no</td>\n",
       "      <td>yes</td>\n",
       "      <td>no</td>\n",
       "      <td>cellular</td>\n",
       "      <td>jun</td>\n",
       "      <td>wed</td>\n",
       "      <td>665</td>\n",
       "      <td>4</td>\n",
       "      <td>3</td>\n",
       "      <td>2</td>\n",
       "      <td>success</td>\n",
       "      <td>-1.7</td>\n",
       "      <td>94.055</td>\n",
       "      <td>-39.8</td>\n",
       "      <td>0.767</td>\n",
       "      <td>4991.6</td>\n",
       "    </tr>\n",
       "    <tr>\n",
       "      <th>5</th>\n",
       "      <td>33</td>\n",
       "      <td>technician</td>\n",
       "      <td>single</td>\n",
       "      <td>professional.course</td>\n",
       "      <td>no</td>\n",
       "      <td>no</td>\n",
       "      <td>yes</td>\n",
       "      <td>telephone</td>\n",
       "      <td>jun</td>\n",
       "      <td>fri</td>\n",
       "      <td>241</td>\n",
       "      <td>3</td>\n",
       "      <td>999</td>\n",
       "      <td>0</td>\n",
       "      <td>nonexistent</td>\n",
       "      <td>1.4</td>\n",
       "      <td>94.465</td>\n",
       "      <td>-41.8</td>\n",
       "      <td>4.959</td>\n",
       "      <td>5228.1</td>\n",
       "    </tr>\n",
       "    <tr>\n",
       "      <th>6</th>\n",
       "      <td>22</td>\n",
       "      <td>services</td>\n",
       "      <td>single</td>\n",
       "      <td>high.school</td>\n",
       "      <td>no</td>\n",
       "      <td>yes</td>\n",
       "      <td>no</td>\n",
       "      <td>cellular</td>\n",
       "      <td>jul</td>\n",
       "      <td>fri</td>\n",
       "      <td>143</td>\n",
       "      <td>2</td>\n",
       "      <td>999</td>\n",
       "      <td>0</td>\n",
       "      <td>nonexistent</td>\n",
       "      <td>1.4</td>\n",
       "      <td>93.918</td>\n",
       "      <td>-42.7</td>\n",
       "      <td>4.963</td>\n",
       "      <td>5228.1</td>\n",
       "    </tr>\n",
       "    <tr>\n",
       "      <th>7</th>\n",
       "      <td>58</td>\n",
       "      <td>management</td>\n",
       "      <td>married</td>\n",
       "      <td>university.degree</td>\n",
       "      <td>no</td>\n",
       "      <td>yes</td>\n",
       "      <td>yes</td>\n",
       "      <td>cellular</td>\n",
       "      <td>may</td>\n",
       "      <td>fri</td>\n",
       "      <td>256</td>\n",
       "      <td>1</td>\n",
       "      <td>999</td>\n",
       "      <td>0</td>\n",
       "      <td>nonexistent</td>\n",
       "      <td>-1.8</td>\n",
       "      <td>92.893</td>\n",
       "      <td>-46.2</td>\n",
       "      <td>1.250</td>\n",
       "      <td>5099.1</td>\n",
       "    </tr>\n",
       "    <tr>\n",
       "      <th>8</th>\n",
       "      <td>33</td>\n",
       "      <td>admin.</td>\n",
       "      <td>married</td>\n",
       "      <td>high.school</td>\n",
       "      <td>unknown</td>\n",
       "      <td>yes</td>\n",
       "      <td>no</td>\n",
       "      <td>cellular</td>\n",
       "      <td>aug</td>\n",
       "      <td>tue</td>\n",
       "      <td>68</td>\n",
       "      <td>1</td>\n",
       "      <td>999</td>\n",
       "      <td>0</td>\n",
       "      <td>nonexistent</td>\n",
       "      <td>1.4</td>\n",
       "      <td>93.444</td>\n",
       "      <td>-36.1</td>\n",
       "      <td>4.963</td>\n",
       "      <td>5228.1</td>\n",
       "    </tr>\n",
       "    <tr>\n",
       "      <th>9</th>\n",
       "      <td>38</td>\n",
       "      <td>admin.</td>\n",
       "      <td>married</td>\n",
       "      <td>university.degree</td>\n",
       "      <td>no</td>\n",
       "      <td>no</td>\n",
       "      <td>no</td>\n",
       "      <td>telephone</td>\n",
       "      <td>jun</td>\n",
       "      <td>mon</td>\n",
       "      <td>757</td>\n",
       "      <td>2</td>\n",
       "      <td>999</td>\n",
       "      <td>0</td>\n",
       "      <td>nonexistent</td>\n",
       "      <td>1.4</td>\n",
       "      <td>94.465</td>\n",
       "      <td>-41.8</td>\n",
       "      <td>4.960</td>\n",
       "      <td>5228.1</td>\n",
       "    </tr>\n",
       "  </tbody>\n",
       "</table>\n",
       "</div>"
      ],
      "text/plain": [
       "   age          job   marital            education  default housing loan  \\\n",
       "0   49   technician  divorced              unknown       no      no   no   \n",
       "1   56  blue-collar   married             basic.9y  unknown     yes   no   \n",
       "2   35   technician    single  professional.course       no      no   no   \n",
       "3   32  blue-collar   married             basic.9y  unknown      no   no   \n",
       "4   27      unknown    single    university.degree       no     yes   no   \n",
       "5   33   technician    single  professional.course       no      no  yes   \n",
       "6   22     services    single          high.school       no     yes   no   \n",
       "7   58   management   married    university.degree       no     yes  yes   \n",
       "8   33       admin.   married          high.school  unknown     yes   no   \n",
       "9   38       admin.   married    university.degree       no      no   no   \n",
       "\n",
       "     contact month day_of_week  duration  campaign  pdays  previous  \\\n",
       "0  telephone   jun         wed        41         1    999         0   \n",
       "1  telephone   may         thu       151         2    999         0   \n",
       "2  telephone   jun         fri       397         1    999         0   \n",
       "3  telephone   may         fri       180         2    999         0   \n",
       "4   cellular   jun         wed       665         4      3         2   \n",
       "5  telephone   jun         fri       241         3    999         0   \n",
       "6   cellular   jul         fri       143         2    999         0   \n",
       "7   cellular   may         fri       256         1    999         0   \n",
       "8   cellular   aug         tue        68         1    999         0   \n",
       "9  telephone   jun         mon       757         2    999         0   \n",
       "\n",
       "      poutcome  emp.var.rate  cons.price.idx  cons.conf.idx  euribor3m  \\\n",
       "0  nonexistent           1.4          94.465          -41.8      4.959   \n",
       "1  nonexistent           1.1          93.994          -36.4      4.860   \n",
       "2  nonexistent           1.4          94.465          -41.8      4.947   \n",
       "3  nonexistent           1.1          93.994          -36.4      4.855   \n",
       "4      success          -1.7          94.055          -39.8      0.767   \n",
       "5  nonexistent           1.4          94.465          -41.8      4.959   \n",
       "6  nonexistent           1.4          93.918          -42.7      4.963   \n",
       "7  nonexistent          -1.8          92.893          -46.2      1.250   \n",
       "8  nonexistent           1.4          93.444          -36.1      4.963   \n",
       "9  nonexistent           1.4          94.465          -41.8      4.960   \n",
       "\n",
       "   nr.employed  \n",
       "0       5228.1  \n",
       "1       5191.0  \n",
       "2       5228.1  \n",
       "3       5191.0  \n",
       "4       4991.6  \n",
       "5       5228.1  \n",
       "6       5228.1  \n",
       "7       5099.1  \n",
       "8       5228.1  \n",
       "9       5228.1  "
      ]
     },
     "execution_count": 22,
     "metadata": {},
     "output_type": "execute_result"
    }
   ],
   "source": [
    "testset.head(10)"
   ]
  },
  {
   "cell_type": "code",
   "execution_count": 23,
   "metadata": {},
   "outputs": [
    {
     "name": "stdout",
     "output_type": "stream",
     "text": [
      "-----------------------------------\n",
      "count    12357.000000\n",
      "mean        40.053249\n",
      "std         10.485345\n",
      "min         17.000000\n",
      "25%         32.000000\n",
      "50%         38.000000\n",
      "75%         47.000000\n",
      "max         98.000000\n",
      "Name: age, dtype: float64\n",
      "-----------------------------------\n",
      "admin.           3128\n",
      "blue-collar      2802\n",
      "technician       1989\n",
      "services         1172\n",
      "management        861\n",
      "retired           507\n",
      "entrepreneur      460\n",
      "self-employed     459\n",
      "housemaid         321\n",
      "unemployed        304\n",
      "student           264\n",
      "unknown            90\n",
      "Name: job, dtype: int64\n",
      "-----------------------------------\n",
      "married     7491\n",
      "single      3426\n",
      "divorced    1418\n",
      "unknown       22\n",
      "Name: marital, dtype: int64\n",
      "-----------------------------------\n",
      "university.degree      3650\n",
      "high.school            2825\n",
      "basic.9y               1827\n",
      "professional.course    1564\n",
      "basic.4y               1311\n",
      "basic.6y                677\n",
      "unknown                 497\n",
      "illiterate                6\n",
      "Name: education, dtype: int64\n",
      "-----------------------------------\n",
      "no         9811\n",
      "unknown    2546\n",
      "Name: default, dtype: int64\n",
      "-----------------------------------\n",
      "yes        6465\n",
      "no         5609\n",
      "unknown     283\n",
      "Name: housing, dtype: int64\n",
      "-----------------------------------\n",
      "no         10249\n",
      "yes         1825\n",
      "unknown      283\n",
      "Name: loan, dtype: int64\n",
      "-----------------------------------\n",
      "cellular     7842\n",
      "telephone    4515\n",
      "Name: contact, dtype: int64\n",
      "-----------------------------------\n",
      "may    4123\n",
      "jul    2141\n",
      "aug    1813\n",
      "jun    1616\n",
      "nov    1254\n",
      "apr     810\n",
      "oct     205\n",
      "mar     175\n",
      "sep     164\n",
      "dec      56\n",
      "Name: month, dtype: int64\n",
      "-----------------------------------\n",
      "thu    2599\n",
      "mon    2550\n",
      "tue    2466\n",
      "wed    2465\n",
      "fri    2277\n",
      "Name: day_of_week, dtype: int64\n",
      "-----------------------------------\n",
      "count    12357.000000\n",
      "mean       259.525532\n",
      "std        259.630286\n",
      "min          3.000000\n",
      "25%        102.000000\n",
      "50%        180.000000\n",
      "75%        322.000000\n",
      "max       3785.000000\n",
      "Name: duration, dtype: float64\n",
      "-----------------------------------\n",
      "count    12357.000000\n",
      "mean         2.591163\n",
      "std          2.809054\n",
      "min          1.000000\n",
      "25%          1.000000\n",
      "50%          2.000000\n",
      "75%          3.000000\n",
      "max         41.000000\n",
      "Name: campaign, dtype: float64\n",
      "-----------------------------------\n",
      "count    12357.000000\n",
      "mean       965.409565\n",
      "std        179.527828\n",
      "min          0.000000\n",
      "25%        999.000000\n",
      "50%        999.000000\n",
      "75%        999.000000\n",
      "max        999.000000\n",
      "Name: pdays, dtype: float64\n",
      "-----------------------------------\n",
      "count    12357.000000\n",
      "mean         0.165736\n",
      "std          0.478290\n",
      "min          0.000000\n",
      "25%          0.000000\n",
      "50%          0.000000\n",
      "75%          0.000000\n",
      "max          5.000000\n",
      "Name: previous, dtype: float64\n",
      "-----------------------------------\n",
      "nonexistent    10725\n",
      "failure         1249\n",
      "success          383\n",
      "Name: poutcome, dtype: int64\n",
      "-----------------------------------\n",
      "count    12357.000000\n",
      "mean         0.080950\n",
      "std          1.572695\n",
      "min         -3.400000\n",
      "25%         -1.800000\n",
      "50%          1.100000\n",
      "75%          1.400000\n",
      "max          1.400000\n",
      "Name: emp.var.rate, dtype: float64\n",
      "-----------------------------------\n",
      "count    12357.000000\n",
      "mean        93.574816\n",
      "std          0.580016\n",
      "min         92.201000\n",
      "25%         93.075000\n",
      "50%         93.749000\n",
      "75%         93.994000\n",
      "max         94.767000\n",
      "Name: cons.price.idx, dtype: float64\n",
      "-----------------------------------\n",
      "count    12357.000000\n",
      "mean       -40.499555\n",
      "std          4.637364\n",
      "min        -50.800000\n",
      "25%        -42.700000\n",
      "50%        -41.800000\n",
      "75%        -36.400000\n",
      "max        -26.900000\n",
      "Name: cons.conf.idx, dtype: float64\n",
      "-----------------------------------\n",
      "count    12357.000000\n",
      "mean         3.626316\n",
      "std          1.731319\n",
      "min          0.634000\n",
      "25%          1.344000\n",
      "50%          4.857000\n",
      "75%          4.961000\n",
      "max          5.045000\n",
      "Name: euribor3m, dtype: float64\n",
      "-----------------------------------\n",
      "count    12357.000000\n",
      "mean      5167.295476\n",
      "std         71.734615\n",
      "min       4963.600000\n",
      "25%       5099.100000\n",
      "50%       5191.000000\n",
      "75%       5228.100000\n",
      "max       5228.100000\n",
      "Name: nr.employed, dtype: float64\n"
     ]
    }
   ],
   "source": [
    "# descriptive statistics of each variable in testing dataset\n",
    "examine_dataframe(testset)"
   ]
  },
  {
   "cell_type": "markdown",
   "metadata": {},
   "source": [
    "The descriptive statistics of variables in testing dataset are similar to that in training dataset. **The only anomaly observed is there is no client who has defaulted credit in testing dataset.** Thus, the column \"default_yes\" in training dataset needs to be dropped to enable modelling to be done."
   ]
  },
  {
   "cell_type": "code",
   "execution_count": 24,
   "metadata": {
    "collapsed": true
   },
   "outputs": [],
   "source": [
    "# recategorise levels in \"education\" variable, as that done with training set\n",
    "testset['education']=np.where(testset['education'] =='basic.9y', 'basic', testset['education'])\n",
    "testset['education']=np.where(testset['education'] =='basic.6y', 'basic', testset['education'])\n",
    "testset['education']=np.where(testset['education'] =='basic.4y', 'basic', testset['education'])\n",
    "testset['education'].unique()\n",
    "\n",
    "# create new variables - \"new\" and \"recent_prev\", as that done with training set\n",
    "testset['new'] = 0\n",
    "testset['recent_prev'] = 0\n",
    "testset.loc[(testset['previous'] == 0) & (testset['pdays'] == 999) ,'new'] = 1\n",
    "testset.loc[testset['pdays'] < 999,'recent_prev'] = 1"
   ]
  },
  {
   "cell_type": "code",
   "execution_count": 25,
   "metadata": {},
   "outputs": [
    {
     "name": "stderr",
     "output_type": "stream",
     "text": [
      "C:\\Users\\Jolyn\\Anaconda3\\lib\\site-packages\\ipykernel_launcher.py:13: SettingWithCopyWarning: \n",
      "A value is trying to be set on a copy of a slice from a DataFrame\n",
      "\n",
      "See the caveats in the documentation: http://pandas.pydata.org/pandas-docs/stable/indexing.html#indexing-view-versus-copy\n",
      "  del sys.path[0]\n"
     ]
    },
    {
     "data": {
      "text/plain": [
       "array(['age', 'duration', 'campaign', 'previous', 'emp.var.rate',\n",
       "       'cons.price.idx', 'cons.conf.idx', 'euribor3m', 'nr.employed',\n",
       "       'new', 'recent_prev', 'job_admin.', 'job_blue-collar',\n",
       "       'job_entrepreneur', 'job_housemaid', 'job_management',\n",
       "       'job_retired', 'job_self-employed', 'job_services', 'job_student',\n",
       "       'job_technician', 'job_unemployed', 'marital_divorced',\n",
       "       'marital_married', 'marital_single', 'education_basic',\n",
       "       'education_high.school', 'education_illiterate',\n",
       "       'education_professional.course', 'education_university.degree',\n",
       "       'default_no', 'default_unknown', 'housing_no', 'housing_unknown',\n",
       "       'housing_yes', 'loan_no', 'loan_unknown', 'loan_yes',\n",
       "       'contact_cellular', 'contact_telephone', 'month_apr', 'month_aug',\n",
       "       'month_dec', 'month_jul', 'month_jun', 'month_mar', 'month_may',\n",
       "       'month_nov', 'month_oct', 'month_sep', 'poutcome_failure',\n",
       "       'poutcome_success'], dtype=object)"
      ]
     },
     "execution_count": 25,
     "metadata": {},
     "output_type": "execute_result"
    }
   ],
   "source": [
    "# one-hot encoding to transform all categorical variables to numerical variables\n",
    "for var in cat_vars:\n",
    "    cat_list='var'+'_'+var\n",
    "    cat_list = pd.get_dummies(testset[var], prefix=var)\n",
    "    test_dummy = testset.join(cat_list)\n",
    "    testset = test_dummy\n",
    "\n",
    "test_vars = testset.columns.values.tolist()\n",
    "test_keep = [i for i in test_vars if i not in cat_vars]\n",
    "test_final = testset[test_keep]\n",
    "\n",
    "# remove unwanted columns, as that done with training set\n",
    "test_final.drop(['day_of_week', 'pdays', 'job_unknown', 'marital_unknown', 'education_unknown', 'poutcome_nonexistent'], axis=1, inplace=True)\n",
    "test_final.columns.values"
   ]
  },
  {
   "cell_type": "code",
   "execution_count": 26,
   "metadata": {},
   "outputs": [
    {
     "data": {
      "text/html": [
       "<div>\n",
       "<style>\n",
       "    .dataframe thead tr:only-child th {\n",
       "        text-align: right;\n",
       "    }\n",
       "\n",
       "    .dataframe thead th {\n",
       "        text-align: left;\n",
       "    }\n",
       "\n",
       "    .dataframe tbody tr th {\n",
       "        vertical-align: top;\n",
       "    }\n",
       "</style>\n",
       "<table border=\"1\" class=\"dataframe\">\n",
       "  <thead>\n",
       "    <tr style=\"text-align: right;\">\n",
       "      <th></th>\n",
       "      <th>age</th>\n",
       "      <th>duration</th>\n",
       "      <th>campaign</th>\n",
       "      <th>previous</th>\n",
       "      <th>emp.var.rate</th>\n",
       "      <th>cons.price.idx</th>\n",
       "      <th>cons.conf.idx</th>\n",
       "      <th>euribor3m</th>\n",
       "      <th>nr.employed</th>\n",
       "      <th>new</th>\n",
       "      <th>...</th>\n",
       "      <th>month_dec</th>\n",
       "      <th>month_jul</th>\n",
       "      <th>month_jun</th>\n",
       "      <th>month_mar</th>\n",
       "      <th>month_may</th>\n",
       "      <th>month_nov</th>\n",
       "      <th>month_oct</th>\n",
       "      <th>month_sep</th>\n",
       "      <th>poutcome_failure</th>\n",
       "      <th>poutcome_success</th>\n",
       "    </tr>\n",
       "  </thead>\n",
       "  <tbody>\n",
       "    <tr>\n",
       "      <th>0</th>\n",
       "      <td>49</td>\n",
       "      <td>41</td>\n",
       "      <td>1</td>\n",
       "      <td>0</td>\n",
       "      <td>1.4</td>\n",
       "      <td>94.465</td>\n",
       "      <td>-41.8</td>\n",
       "      <td>4.959</td>\n",
       "      <td>5228.1</td>\n",
       "      <td>1</td>\n",
       "      <td>...</td>\n",
       "      <td>0</td>\n",
       "      <td>0</td>\n",
       "      <td>1</td>\n",
       "      <td>0</td>\n",
       "      <td>0</td>\n",
       "      <td>0</td>\n",
       "      <td>0</td>\n",
       "      <td>0</td>\n",
       "      <td>0</td>\n",
       "      <td>0</td>\n",
       "    </tr>\n",
       "    <tr>\n",
       "      <th>1</th>\n",
       "      <td>56</td>\n",
       "      <td>151</td>\n",
       "      <td>2</td>\n",
       "      <td>0</td>\n",
       "      <td>1.1</td>\n",
       "      <td>93.994</td>\n",
       "      <td>-36.4</td>\n",
       "      <td>4.860</td>\n",
       "      <td>5191.0</td>\n",
       "      <td>1</td>\n",
       "      <td>...</td>\n",
       "      <td>0</td>\n",
       "      <td>0</td>\n",
       "      <td>0</td>\n",
       "      <td>0</td>\n",
       "      <td>1</td>\n",
       "      <td>0</td>\n",
       "      <td>0</td>\n",
       "      <td>0</td>\n",
       "      <td>0</td>\n",
       "      <td>0</td>\n",
       "    </tr>\n",
       "    <tr>\n",
       "      <th>2</th>\n",
       "      <td>35</td>\n",
       "      <td>397</td>\n",
       "      <td>1</td>\n",
       "      <td>0</td>\n",
       "      <td>1.4</td>\n",
       "      <td>94.465</td>\n",
       "      <td>-41.8</td>\n",
       "      <td>4.947</td>\n",
       "      <td>5228.1</td>\n",
       "      <td>1</td>\n",
       "      <td>...</td>\n",
       "      <td>0</td>\n",
       "      <td>0</td>\n",
       "      <td>1</td>\n",
       "      <td>0</td>\n",
       "      <td>0</td>\n",
       "      <td>0</td>\n",
       "      <td>0</td>\n",
       "      <td>0</td>\n",
       "      <td>0</td>\n",
       "      <td>0</td>\n",
       "    </tr>\n",
       "    <tr>\n",
       "      <th>3</th>\n",
       "      <td>32</td>\n",
       "      <td>180</td>\n",
       "      <td>2</td>\n",
       "      <td>0</td>\n",
       "      <td>1.1</td>\n",
       "      <td>93.994</td>\n",
       "      <td>-36.4</td>\n",
       "      <td>4.855</td>\n",
       "      <td>5191.0</td>\n",
       "      <td>1</td>\n",
       "      <td>...</td>\n",
       "      <td>0</td>\n",
       "      <td>0</td>\n",
       "      <td>0</td>\n",
       "      <td>0</td>\n",
       "      <td>1</td>\n",
       "      <td>0</td>\n",
       "      <td>0</td>\n",
       "      <td>0</td>\n",
       "      <td>0</td>\n",
       "      <td>0</td>\n",
       "    </tr>\n",
       "    <tr>\n",
       "      <th>4</th>\n",
       "      <td>27</td>\n",
       "      <td>665</td>\n",
       "      <td>4</td>\n",
       "      <td>2</td>\n",
       "      <td>-1.7</td>\n",
       "      <td>94.055</td>\n",
       "      <td>-39.8</td>\n",
       "      <td>0.767</td>\n",
       "      <td>4991.6</td>\n",
       "      <td>0</td>\n",
       "      <td>...</td>\n",
       "      <td>0</td>\n",
       "      <td>0</td>\n",
       "      <td>1</td>\n",
       "      <td>0</td>\n",
       "      <td>0</td>\n",
       "      <td>0</td>\n",
       "      <td>0</td>\n",
       "      <td>0</td>\n",
       "      <td>0</td>\n",
       "      <td>1</td>\n",
       "    </tr>\n",
       "    <tr>\n",
       "      <th>5</th>\n",
       "      <td>33</td>\n",
       "      <td>241</td>\n",
       "      <td>3</td>\n",
       "      <td>0</td>\n",
       "      <td>1.4</td>\n",
       "      <td>94.465</td>\n",
       "      <td>-41.8</td>\n",
       "      <td>4.959</td>\n",
       "      <td>5228.1</td>\n",
       "      <td>1</td>\n",
       "      <td>...</td>\n",
       "      <td>0</td>\n",
       "      <td>0</td>\n",
       "      <td>1</td>\n",
       "      <td>0</td>\n",
       "      <td>0</td>\n",
       "      <td>0</td>\n",
       "      <td>0</td>\n",
       "      <td>0</td>\n",
       "      <td>0</td>\n",
       "      <td>0</td>\n",
       "    </tr>\n",
       "    <tr>\n",
       "      <th>6</th>\n",
       "      <td>22</td>\n",
       "      <td>143</td>\n",
       "      <td>2</td>\n",
       "      <td>0</td>\n",
       "      <td>1.4</td>\n",
       "      <td>93.918</td>\n",
       "      <td>-42.7</td>\n",
       "      <td>4.963</td>\n",
       "      <td>5228.1</td>\n",
       "      <td>1</td>\n",
       "      <td>...</td>\n",
       "      <td>0</td>\n",
       "      <td>1</td>\n",
       "      <td>0</td>\n",
       "      <td>0</td>\n",
       "      <td>0</td>\n",
       "      <td>0</td>\n",
       "      <td>0</td>\n",
       "      <td>0</td>\n",
       "      <td>0</td>\n",
       "      <td>0</td>\n",
       "    </tr>\n",
       "    <tr>\n",
       "      <th>7</th>\n",
       "      <td>58</td>\n",
       "      <td>256</td>\n",
       "      <td>1</td>\n",
       "      <td>0</td>\n",
       "      <td>-1.8</td>\n",
       "      <td>92.893</td>\n",
       "      <td>-46.2</td>\n",
       "      <td>1.250</td>\n",
       "      <td>5099.1</td>\n",
       "      <td>1</td>\n",
       "      <td>...</td>\n",
       "      <td>0</td>\n",
       "      <td>0</td>\n",
       "      <td>0</td>\n",
       "      <td>0</td>\n",
       "      <td>1</td>\n",
       "      <td>0</td>\n",
       "      <td>0</td>\n",
       "      <td>0</td>\n",
       "      <td>0</td>\n",
       "      <td>0</td>\n",
       "    </tr>\n",
       "    <tr>\n",
       "      <th>8</th>\n",
       "      <td>33</td>\n",
       "      <td>68</td>\n",
       "      <td>1</td>\n",
       "      <td>0</td>\n",
       "      <td>1.4</td>\n",
       "      <td>93.444</td>\n",
       "      <td>-36.1</td>\n",
       "      <td>4.963</td>\n",
       "      <td>5228.1</td>\n",
       "      <td>1</td>\n",
       "      <td>...</td>\n",
       "      <td>0</td>\n",
       "      <td>0</td>\n",
       "      <td>0</td>\n",
       "      <td>0</td>\n",
       "      <td>0</td>\n",
       "      <td>0</td>\n",
       "      <td>0</td>\n",
       "      <td>0</td>\n",
       "      <td>0</td>\n",
       "      <td>0</td>\n",
       "    </tr>\n",
       "    <tr>\n",
       "      <th>9</th>\n",
       "      <td>38</td>\n",
       "      <td>757</td>\n",
       "      <td>2</td>\n",
       "      <td>0</td>\n",
       "      <td>1.4</td>\n",
       "      <td>94.465</td>\n",
       "      <td>-41.8</td>\n",
       "      <td>4.960</td>\n",
       "      <td>5228.1</td>\n",
       "      <td>1</td>\n",
       "      <td>...</td>\n",
       "      <td>0</td>\n",
       "      <td>0</td>\n",
       "      <td>1</td>\n",
       "      <td>0</td>\n",
       "      <td>0</td>\n",
       "      <td>0</td>\n",
       "      <td>0</td>\n",
       "      <td>0</td>\n",
       "      <td>0</td>\n",
       "      <td>0</td>\n",
       "    </tr>\n",
       "  </tbody>\n",
       "</table>\n",
       "<p>10 rows × 52 columns</p>\n",
       "</div>"
      ],
      "text/plain": [
       "   age  duration  campaign  previous  emp.var.rate  cons.price.idx  \\\n",
       "0   49        41         1         0           1.4          94.465   \n",
       "1   56       151         2         0           1.1          93.994   \n",
       "2   35       397         1         0           1.4          94.465   \n",
       "3   32       180         2         0           1.1          93.994   \n",
       "4   27       665         4         2          -1.7          94.055   \n",
       "5   33       241         3         0           1.4          94.465   \n",
       "6   22       143         2         0           1.4          93.918   \n",
       "7   58       256         1         0          -1.8          92.893   \n",
       "8   33        68         1         0           1.4          93.444   \n",
       "9   38       757         2         0           1.4          94.465   \n",
       "\n",
       "   cons.conf.idx  euribor3m  nr.employed  new        ...         month_dec  \\\n",
       "0          -41.8      4.959       5228.1    1        ...                 0   \n",
       "1          -36.4      4.860       5191.0    1        ...                 0   \n",
       "2          -41.8      4.947       5228.1    1        ...                 0   \n",
       "3          -36.4      4.855       5191.0    1        ...                 0   \n",
       "4          -39.8      0.767       4991.6    0        ...                 0   \n",
       "5          -41.8      4.959       5228.1    1        ...                 0   \n",
       "6          -42.7      4.963       5228.1    1        ...                 0   \n",
       "7          -46.2      1.250       5099.1    1        ...                 0   \n",
       "8          -36.1      4.963       5228.1    1        ...                 0   \n",
       "9          -41.8      4.960       5228.1    1        ...                 0   \n",
       "\n",
       "   month_jul  month_jun  month_mar  month_may  month_nov  month_oct  \\\n",
       "0          0          1          0          0          0          0   \n",
       "1          0          0          0          1          0          0   \n",
       "2          0          1          0          0          0          0   \n",
       "3          0          0          0          1          0          0   \n",
       "4          0          1          0          0          0          0   \n",
       "5          0          1          0          0          0          0   \n",
       "6          1          0          0          0          0          0   \n",
       "7          0          0          0          1          0          0   \n",
       "8          0          0          0          0          0          0   \n",
       "9          0          1          0          0          0          0   \n",
       "\n",
       "   month_sep  poutcome_failure  poutcome_success  \n",
       "0          0                 0                 0  \n",
       "1          0                 0                 0  \n",
       "2          0                 0                 0  \n",
       "3          0                 0                 0  \n",
       "4          0                 0                 1  \n",
       "5          0                 0                 0  \n",
       "6          0                 0                 0  \n",
       "7          0                 0                 0  \n",
       "8          0                 0                 0  \n",
       "9          0                 0                 0  \n",
       "\n",
       "[10 rows x 52 columns]"
      ]
     },
     "execution_count": 26,
     "metadata": {},
     "output_type": "execute_result"
    }
   ],
   "source": [
    "test_final.head(10)"
   ]
  },
  {
   "cell_type": "markdown",
   "metadata": {},
   "source": [
    "## Step 3: Model Building"
   ]
  },
  {
   "cell_type": "code",
   "execution_count": 27,
   "metadata": {},
   "outputs": [
    {
     "name": "stdout",
     "output_type": "stream",
     "text": [
      "(28831, 52)\n",
      "(28831,)\n"
     ]
    }
   ],
   "source": [
    "# create X (features) and y (response)\n",
    "X = train_final.drop(['y'], axis=1, inplace=False)\n",
    "y = train_final.y\n",
    "print(X.shape)\n",
    "print(y.shape)"
   ]
  },
  {
   "cell_type": "code",
   "execution_count": 28,
   "metadata": {
    "collapsed": true
   },
   "outputs": [],
   "source": [
    "from sklearn.linear_model import LogisticRegression\n",
    "# from sklearn.cross_validation import cross_val_score\n",
    "# stratified sampling is used by default in cross_val_score to sample training data in proportion to their classes\n",
    "from sklearn.model_selection import train_test_split\n",
    "from sklearn import metrics"
   ]
  },
  {
   "cell_type": "code",
   "execution_count": 29,
   "metadata": {
    "collapsed": true
   },
   "outputs": [],
   "source": [
    "# as there is no true label (y) in testing dataset, the training dataset is split into 3:1 (train:test) in proportion, stratified by y in training dataset, for model evaluation purpose\n",
    "X_train, X_test, y_train, y_test = train_test_split(X, y, stratify=y, test_size=0.25, random_state = 123)"
   ]
  },
  {
   "cell_type": "code",
   "execution_count": 30,
   "metadata": {},
   "outputs": [
    {
     "data": {
      "text/plain": [
       "0    19187\n",
       "1     2436\n",
       "Name: y, dtype: int64"
      ]
     },
     "execution_count": 30,
     "metadata": {},
     "output_type": "execute_result"
    }
   ],
   "source": [
    "y_train.value_counts()"
   ]
  },
  {
   "cell_type": "code",
   "execution_count": 31,
   "metadata": {},
   "outputs": [
    {
     "data": {
      "text/plain": [
       "0    6396\n",
       "1     812\n",
       "Name: y, dtype: int64"
      ]
     },
     "execution_count": 31,
     "metadata": {},
     "output_type": "execute_result"
    }
   ],
   "source": [
    "y_test.value_counts()"
   ]
  },
  {
   "cell_type": "code",
   "execution_count": 32,
   "metadata": {
    "collapsed": true
   },
   "outputs": [],
   "source": [
    "# define a function that calculates the metrics of interest\n",
    "\n",
    "def get_results(classifier, X_train, y_train, X_test, y_test):\n",
    "    # fit classifier\n",
    "    classifier.fit(X_train, y_train)\n",
    "    \n",
    "    # make class predictions for X_test\n",
    "    y_pred_class = classifier.predict(X_test)\n",
    "    \n",
    "    # store the predicted probabilities for class 1\n",
    "    y_pred_prob = classifier.predict_proba(X_test)[:, 1]\n",
    "    \n",
    "    # print confusion matrix of its predictions\n",
    "    print('Confusion matrix: \\n', metrics.confusion_matrix(y_test, y_pred_class))\n",
    "    \n",
    "    # print Sensitivity (True Positive Rate) - When the actual value is positive, how often is the prediction correct?\n",
    "    print('Sensitivity: ', metrics.recall_score(y_test, y_pred_class))\n",
    "    \n",
    "    # print Precision - When a positive value is predicted, how often is the prediction correct?\n",
    "    print('Precision: ', metrics.precision_score(y_test, y_pred_class))\n",
    "    \n",
    "    # print AUC - percentage of ROC plot that is underneath the curve\n",
    "    print('AUC: ', metrics.roc_auc_score(y_test, y_pred_prob))\n",
    "    \n",
    "    # plot ROC curve\n",
    "    fpr, tpr, thresholds = metrics.roc_curve(y_test, y_pred_prob)\n",
    "    plt.plot(fpr, tpr)\n",
    "    plt.xlim([0.0, 1.0])\n",
    "    plt.ylim([0.0, 1.0])\n",
    "    plt.title('ROC curve for classifier')\n",
    "    plt.xlabel('False Positive Rate (1 - Specificity)')\n",
    "    plt.ylabel('True Positive Rate (Sensitivity)')\n",
    "    plt.grid(True)"
   ]
  },
  {
   "cell_type": "markdown",
   "metadata": {},
   "source": [
    "#### Model 1: Logistic Regression (default parameters)"
   ]
  },
  {
   "cell_type": "code",
   "execution_count": 33,
   "metadata": {},
   "outputs": [
    {
     "name": "stdout",
     "output_type": "stream",
     "text": [
      "Confusion matrix: \n",
      " [[6222  174]\n",
      " [ 500  312]]\n",
      "Sensitivity:  0.384236453202\n",
      "Precision:  0.641975308642\n",
      "AUC:  0.923290649636\n"
     ]
    },
    {
     "data": {
      "image/png": "[encoded data removed]",
      "text/plain": [
       "<matplotlib.figure.Figure at 0x1c788e49b38>"
      ]
     },
     "metadata": {},
     "output_type": "display_data"
    }
   ],
   "source": [
    "lg_1 = LogisticRegression()\n",
    "lg_1_results = get_results(lg_1, X_train, y_train, X_test, y_test)"
   ]
  },
  {
   "cell_type": "markdown",
   "metadata": {},
   "source": [
    "#### Model 1.1: Logistic Regression (class_weight = 'balanced')"
   ]
  },
  {
   "cell_type": "code",
   "execution_count": 34,
   "metadata": {},
   "outputs": [
    {
     "name": "stdout",
     "output_type": "stream",
     "text": [
      "Confusion matrix: \n",
      " [[5463  933]\n",
      " [ 110  702]]\n",
      "Sensitivity:  0.864532019704\n",
      "Precision:  0.429357798165\n",
      "AUC:  0.930499203628\n"
     ]
    },
    {
     "data": {
      "image/png": "[encoded data removed]",
      "text/plain": [
       "<matplotlib.figure.Figure at 0x1c788e898d0>"
      ]
     },
     "metadata": {},
     "output_type": "display_data"
    }
   ],
   "source": [
    "lg_2 = LogisticRegression(class_weight='balanced')\n",
    "lg_2_results = get_results(lg_2, X_train, y_train, X_test, y_test)"
   ]
  },
  {
   "cell_type": "markdown",
   "metadata": {},
   "source": [
    "#### Model 1.2: Under-sampling and Logistic Regression"
   ]
  },
  {
   "cell_type": "code",
   "execution_count": 35,
   "metadata": {},
   "outputs": [
    {
     "data": {
      "text/plain": [
       "1    2436\n",
       "0    2436\n",
       "Name: y, dtype: int64"
      ]
     },
     "execution_count": 35,
     "metadata": {},
     "output_type": "execute_result"
    }
   ],
   "source": [
    "from sklearn.utils import resample\n",
    "\n",
    "# Separate majority and minority classes\n",
    "df_merged =pd.concat([X_train, y_train], axis=1)\n",
    "\n",
    "df_merged_majority = df_merged[df_merged.y==0]\n",
    "df_merged_minority = df_merged[df_merged.y==1]\n",
    " \n",
    "# Downsample majority class\n",
    "df_merged_majority_downsampled = resample(df_merged_majority,replace=False,n_samples=2436,random_state=25)\n",
    " \n",
    "# Combine minority class with downsampled majority class\n",
    "df_merged_downsampled = pd.concat([df_merged_majority_downsampled, df_merged_minority])\n",
    " \n",
    "# Display new class counts\n",
    "df_merged_downsampled.y.value_counts()"
   ]
  },
  {
   "cell_type": "code",
   "execution_count": 36,
   "metadata": {
    "collapsed": true
   },
   "outputs": [],
   "source": [
    "y_merged = df_merged_downsampled.y\n",
    "X_merged = df_merged_downsampled.drop('y', axis=1)"
   ]
  },
  {
   "cell_type": "code",
   "execution_count": 37,
   "metadata": {},
   "outputs": [
    {
     "name": "stdout",
     "output_type": "stream",
     "text": [
      "(4872, 52)\n",
      "(4872,)\n"
     ]
    }
   ],
   "source": [
    "print(X_merged.shape)\n",
    "print(y_merged.shape)"
   ]
  },
  {
   "cell_type": "code",
   "execution_count": 38,
   "metadata": {},
   "outputs": [
    {
     "name": "stdout",
     "output_type": "stream",
     "text": [
      "Confusion matrix: \n",
      " [[5449  947]\n",
      " [ 116  696]]\n",
      "Sensitivity:  0.857142857143\n",
      "Precision:  0.423615337797\n",
      "AUC:  0.928910117777\n"
     ]
    },
    {
     "data": {
      "image/png": "[encoded data removed]",
      "text/plain": [
       "<matplotlib.figure.Figure at 0x1c788ed5978>"
      ]
     },
     "metadata": {},
     "output_type": "display_data"
    }
   ],
   "source": [
    "lg_3_results = get_results(lg_1, X_merged, y_merged, X_test, y_test)"
   ]
  },
  {
   "cell_type": "markdown",
   "metadata": {
    "collapsed": true
   },
   "source": [
    "#### Model 1.3: Logistic Regression without \"duration\""
   ]
  },
  {
   "cell_type": "code",
   "execution_count": 39,
   "metadata": {},
   "outputs": [
    {
     "name": "stdout",
     "output_type": "stream",
     "text": [
      "(21623, 51)\n",
      "(7208, 51)\n"
     ]
    }
   ],
   "source": [
    "X_train_dur = X_train.drop('duration', axis=1)\n",
    "X_test_dur = X_test.drop('duration', axis=1)\n",
    "print(X_train_dur.shape)\n",
    "print(X_test_dur.shape)"
   ]
  },
  {
   "cell_type": "code",
   "execution_count": 40,
   "metadata": {},
   "outputs": [
    {
     "name": "stdout",
     "output_type": "stream",
     "text": [
      "Confusion matrix: \n",
      " [[6295  101]\n",
      " [ 634  178]]\n",
      "Sensitivity:  0.21921182266\n",
      "Precision:  0.637992831541\n",
      "AUC:  0.772932378457\n"
     ]
    },
    {
     "data": {
      "image/png": "[encoded data removed]",
      "text/plain": [
       "<matplotlib.figure.Figure at 0x1c788f33b00>"
      ]
     },
     "metadata": {},
     "output_type": "display_data"
    }
   ],
   "source": [
    "lg_4_results = get_results(lg_1, X_train_dur, y_train, X_test_dur, y_test)"
   ]
  },
  {
   "cell_type": "markdown",
   "metadata": {},
   "source": [
    "#### Model 1.4: Logistic Regression without variables with importance < 0.01"
   ]
  },
  {
   "cell_type": "code",
   "execution_count": 41,
   "metadata": {},
   "outputs": [
    {
     "name": "stdout",
     "output_type": "stream",
     "text": [
      "(21623, 34)\n",
      "(7208, 34)\n"
     ]
    }
   ],
   "source": [
    "X_train_lean = X_train.drop(['job_entrepreneur','job_housemaid','job_retired','job_self-employed','job_student','job_unemployed','education_illiterate','housing_unknown','loan_unknown','month_apr','month_aug','month_dec','month_jul','month_jun','month_mar','month_nov','month_sep','poutcome_failure'], axis=1)\n",
    "X_test_lean = X_test.drop(['job_entrepreneur','job_housemaid','job_retired','job_self-employed','job_student','job_unemployed','education_illiterate','housing_unknown','loan_unknown','month_apr','month_aug','month_dec','month_jul','month_jun','month_mar','month_nov','month_sep','poutcome_failure'], axis=1)\n",
    "print(X_train_lean.shape)\n",
    "print(X_test_lean.shape)"
   ]
  },
  {
   "cell_type": "code",
   "execution_count": 42,
   "metadata": {},
   "outputs": [
    {
     "name": "stdout",
     "output_type": "stream",
     "text": [
      "Confusion matrix: \n",
      " [[6200  196]\n",
      " [ 486  326]]\n",
      "Sensitivity:  0.401477832512\n",
      "Precision:  0.624521072797\n",
      "AUC:  0.923954164703\n"
     ]
    },
    {
     "data": {
      "image/png": "[encoded data removed]",
      "text/plain": [
       "<matplotlib.figure.Figure at 0x1c788edd3c8>"
      ]
     },
     "metadata": {},
     "output_type": "display_data"
    }
   ],
   "source": [
    "lg_5_results = get_results(lg_1, X_train_lean, y_train, X_test_lean, y_test)"
   ]
  },
  {
   "cell_type": "markdown",
   "metadata": {},
   "source": [
    "#### Model 2: Random Forest (n_estimators = 1000)"
   ]
  },
  {
   "cell_type": "code",
   "execution_count": 43,
   "metadata": {
    "collapsed": true
   },
   "outputs": [],
   "source": [
    "from sklearn.ensemble import RandomForestClassifier"
   ]
  },
  {
   "cell_type": "code",
   "execution_count": 44,
   "metadata": {},
   "outputs": [
    {
     "name": "stdout",
     "output_type": "stream",
     "text": [
      "Confusion matrix: \n",
      " [[6166  230]\n",
      " [ 438  374]]\n",
      "Sensitivity:  0.460591133005\n",
      "Precision:  0.619205298013\n",
      "AUC:  0.932867043596\n"
     ]
    },
    {
     "data": {
      "image/png": "[encoded data removed]",
      "text/plain": [
       "<matplotlib.figure.Figure at 0x1c78ad2ef28>"
      ]
     },
     "metadata": {},
     "output_type": "display_data"
    }
   ],
   "source": [
    "rf_1 = RandomForestClassifier(n_estimators=1000, random_state=123)\n",
    "rf_1_results = get_results(rf_1, X_train, y_train, X_test, y_test)"
   ]
  },
  {
   "cell_type": "markdown",
   "metadata": {},
   "source": [
    "#### Model 2.1: Random Forest (with class_weight = 'balanced')"
   ]
  },
  {
   "cell_type": "code",
   "execution_count": 45,
   "metadata": {},
   "outputs": [
    {
     "name": "stdout",
     "output_type": "stream",
     "text": [
      "Confusion matrix: \n",
      " [[6201  195]\n",
      " [ 478  334]]\n",
      "Sensitivity:  0.411330049261\n",
      "Precision:  0.631379962193\n",
      "AUC:  0.933657735592\n"
     ]
    },
    {
     "data": {
      "image/png": "[encoded data removed]",
      "text/plain": [
       "<matplotlib.figure.Figure at 0x1c78ae18f28>"
      ]
     },
     "metadata": {},
     "output_type": "display_data"
    }
   ],
   "source": [
    "rf_2 = RandomForestClassifier(n_estimators=1000, class_weight ='balanced', random_state=123)\n",
    "rf_2_results = get_results(rf_2, X_train, y_train, X_test, y_test)"
   ]
  },
  {
   "cell_type": "code",
   "execution_count": 46,
   "metadata": {},
   "outputs": [
    {
     "data": {
      "text/plain": [
       "Text(0.5,0,'Relative Importance')"
      ]
     },
     "execution_count": 46,
     "metadata": {},
     "output_type": "execute_result"
    },
    {
     "data": {
      "image/png": "[encoded data removed]",
      "text/plain": [
       "<matplotlib.figure.Figure at 0x1c78af10048>"
      ]
     },
     "metadata": {},
     "output_type": "display_data"
    }
   ],
   "source": [
    "features = X_train.columns[0:53]\n",
    "importances = rf_2.feature_importances_\n",
    "indices = np.argsort(importances)\n",
    "\n",
    "plt.figure(1)\n",
    "plt.title('Feature Importances')\n",
    "plt.barh(range(len(indices)), importances[indices], color='b', align='center')\n",
    "plt.yticks(range(len(indices)), features[indices])\n",
    "plt.xlabel('Relative Importance')"
   ]
  },
  {
   "cell_type": "code",
   "execution_count": 47,
   "metadata": {},
   "outputs": [
    {
     "name": "stdout",
     "output_type": "stream",
     "text": [
      "Variable: duration                       Importance:0.38\n",
      "Variable: euribor3m                      Importance:0.11\n",
      "Variable: nr.employed                    Importance:0.07\n",
      "Variable: age                            Importance:0.06\n",
      "Variable: emp.var.rate                   Importance:0.05\n",
      "Variable: campaign                       Importance:0.03\n",
      "Variable: cons.conf.idx                  Importance:0.03\n",
      "Variable: cons.price.idx                 Importance:0.02\n",
      "Variable: recent_prev                    Importance:0.02\n",
      "Variable: previous                       Importance:0.01\n",
      "Variable: new                            Importance:0.01\n",
      "Variable: job_admin.                     Importance:0.01\n",
      "Variable: job_blue-collar                Importance:0.01\n",
      "Variable: job_services                   Importance:0.01\n",
      "Variable: job_technician                 Importance:0.01\n",
      "Variable: marital_divorced               Importance:0.01\n",
      "Variable: marital_married                Importance:0.01\n",
      "Variable: marital_single                 Importance:0.01\n",
      "Variable: education_basic                Importance:0.01\n",
      "Variable: education_high.school          Importance:0.01\n",
      "Variable: education_professional.course  Importance:0.01\n",
      "Variable: education_university.degree    Importance:0.01\n",
      "Variable: default_no                     Importance:0.01\n",
      "Variable: default_unknown                Importance:0.01\n",
      "Variable: housing_no                     Importance:0.01\n",
      "Variable: housing_yes                    Importance:0.01\n",
      "Variable: loan_no                        Importance:0.01\n",
      "Variable: loan_yes                       Importance:0.01\n",
      "Variable: contact_cellular               Importance:0.01\n",
      "Variable: contact_telephone              Importance:0.01\n",
      "Variable: month_may                      Importance:0.01\n",
      "Variable: month_oct                      Importance:0.01\n",
      "Variable: poutcome_success               Importance:0.01\n",
      "Variable: job_entrepreneur               Importance:0.0\n",
      "Variable: job_housemaid                  Importance:0.0\n",
      "Variable: job_management                 Importance:0.0\n",
      "Variable: job_retired                    Importance:0.0\n",
      "Variable: job_self-employed              Importance:0.0\n",
      "Variable: job_student                    Importance:0.0\n",
      "Variable: job_unemployed                 Importance:0.0\n",
      "Variable: education_illiterate           Importance:0.0\n",
      "Variable: housing_unknown                Importance:0.0\n",
      "Variable: loan_unknown                   Importance:0.0\n",
      "Variable: month_apr                      Importance:0.0\n",
      "Variable: month_aug                      Importance:0.0\n",
      "Variable: month_dec                      Importance:0.0\n",
      "Variable: month_jul                      Importance:0.0\n",
      "Variable: month_jun                      Importance:0.0\n",
      "Variable: month_mar                      Importance:0.0\n",
      "Variable: month_nov                      Importance:0.0\n",
      "Variable: month_sep                      Importance:0.0\n",
      "Variable: poutcome_failure               Importance:0.0\n"
     ]
    },
    {
     "data": {
      "text/plain": [
       "[None,\n",
       " None,\n",
       " None,\n",
       " None,\n",
       " None,\n",
       " None,\n",
       " None,\n",
       " None,\n",
       " None,\n",
       " None,\n",
       " None,\n",
       " None,\n",
       " None,\n",
       " None,\n",
       " None,\n",
       " None,\n",
       " None,\n",
       " None,\n",
       " None,\n",
       " None,\n",
       " None,\n",
       " None,\n",
       " None,\n",
       " None,\n",
       " None,\n",
       " None,\n",
       " None,\n",
       " None,\n",
       " None,\n",
       " None,\n",
       " None,\n",
       " None,\n",
       " None,\n",
       " None,\n",
       " None,\n",
       " None,\n",
       " None,\n",
       " None,\n",
       " None,\n",
       " None,\n",
       " None,\n",
       " None,\n",
       " None,\n",
       " None,\n",
       " None,\n",
       " None,\n",
       " None,\n",
       " None,\n",
       " None,\n",
       " None,\n",
       " None,\n",
       " None]"
      ]
     },
     "execution_count": 47,
     "metadata": {},
     "output_type": "execute_result"
    }
   ],
   "source": [
    "# Get numerical feature importances\n",
    "\n",
    "# List of tuples with variable and importance\n",
    "feature_importances = [(feature, round(importance, 2)) for feature, importance in zip(features, importances)]\n",
    "# Sort the feature importances by most important first\n",
    "feature_importances = sorted(feature_importances, key = lambda x: x[1], reverse = True)\n",
    "# Print out the feature and importances \n",
    "[print('Variable: {:30} Importance:{}'.format(*pair)) for pair in feature_importances]"
   ]
  },
  {
   "cell_type": "markdown",
   "metadata": {},
   "source": [
    "#### Model 2.2: Under-sampling and Random Forest"
   ]
  },
  {
   "cell_type": "code",
   "execution_count": 48,
   "metadata": {},
   "outputs": [
    {
     "name": "stdout",
     "output_type": "stream",
     "text": [
      "Confusion matrix: \n",
      " [[5340 1056]\n",
      " [  76  736]]\n",
      "Sensitivity:  0.906403940887\n",
      "Precision:  0.410714285714\n",
      "AUC:  0.930268436708\n"
     ]
    },
    {
     "data": {
      "image/png": "[encoded data removed]",
      "text/plain": [
       "<matplotlib.figure.Figure at 0x1c7892339e8>"
      ]
     },
     "metadata": {},
     "output_type": "display_data"
    }
   ],
   "source": [
    "rf_3_results = get_results(rf_1, X_merged, y_merged, X_test, y_test)"
   ]
  },
  {
   "cell_type": "markdown",
   "metadata": {},
   "source": [
    "#### Model 2.3: Random Forest without \"duration\""
   ]
  },
  {
   "cell_type": "code",
   "execution_count": 49,
   "metadata": {},
   "outputs": [
    {
     "name": "stdout",
     "output_type": "stream",
     "text": [
      "Confusion matrix: \n",
      " [[6173  223]\n",
      " [ 576  236]]\n",
      "Sensitivity:  0.290640394089\n",
      "Precision:  0.514161220044\n",
      "AUC:  0.762778152602\n"
     ]
    },
    {
     "data": {
      "image/png": "[encoded data removed]",
      "text/plain": [
       "<matplotlib.figure.Figure at 0x1c788f080b8>"
      ]
     },
     "metadata": {},
     "output_type": "display_data"
    }
   ],
   "source": [
    "rf_4_results = get_results(rf_1, X_train_dur, y_train, X_test_dur, y_test)"
   ]
  },
  {
   "cell_type": "markdown",
   "metadata": {},
   "source": [
    "#### Model 2.4: Random Forest without variables with importance < 0.01"
   ]
  },
  {
   "cell_type": "code",
   "execution_count": 50,
   "metadata": {},
   "outputs": [
    {
     "name": "stdout",
     "output_type": "stream",
     "text": [
      "Confusion matrix: \n",
      " [[6157  239]\n",
      " [ 438  374]]\n",
      "Sensitivity:  0.460591133005\n",
      "Precision:  0.610114192496\n",
      "AUC:  0.933526804006\n"
     ]
    },
    {
     "data": {
      "image/png": "[encoded data removed]",
      "text/plain": [
       "<matplotlib.figure.Figure at 0x1c78ae33cc0>"
      ]
     },
     "metadata": {},
     "output_type": "display_data"
    }
   ],
   "source": [
    "rf_5_results = get_results(rf_1, X_train_lean, y_train, X_test_lean, y_test)"
   ]
  },
  {
   "cell_type": "markdown",
   "metadata": {},
   "source": [
    "### Discussion:\n",
    "1. Several models have been built with mainly 2 algorithms (Logistic Regression and Random Forest) to evaluate performances under different settings:\n",
    ">* default parameters of Logistic Regression (LR) and Random Forest (RF). For RF, n_estimators of 1000 and 500 had been attempted as the training dataset volume is substantial (28831 rows x 52 columns), 1000 is chosen since it provides better performance.\n",
    ">* since dependent variable y is highly imbalanced, one way to address in modelling is by specifying parameter \"class_weight\" to 'balanced' so that higher weightage will be given to minority in y.\n",
    ">* another method to address imbalanced data is by performing under-sampling on training dataset. Under-sampling is chosen instead of over-sampling due to the very samples of \"1\" in y. Should over-sampling is done, the instances of \"1\" to be synthesized would be overwhelming to balance the 89% of \"0\" in y variable.\n",
    ">* the variable \"duration\" is excluded from modelling. Duration refers to the last contact duration with client. This variable would only be made available after the action of contacting a client is performed. Building a model with this variable included may not generalise well to unseen data in the future. Thus, it should not be considered in coming up with a predictive model that will be used in future work.\n",
    ">* based on features importance extracted from Random Forest, the models can be fine tuned by only including features with higher prediction power and exclude features that do not contribute to modelling.\n",
    "\n",
    "2. In terms of metrics used for model evaluation, **Accuracy** is **not** tracked for it would not be reflective (it'll always be high with predicted outcome mostly \"0\"s) since the outcome of focus in the dataset is highly imbalanced. The instances of False Negative (FN) matter in this business problem - where a client who is predicted to not subscribe actually subscribed to term deposit in real - the number of FN needs to be optimised to be lowest possible as we do not want to miss targeting these customers who will potentially buy our product. Thus, **Sensitivity** and **Precision** are monitored to ensure predicted positive outcome \"1\" is indeed accurate. **AUC**, Area Under the ROC curve, is the chosen metric for model selection.<br>\n",
    "<br>\n",
    "3. Table below shows the results compiled from the different permutations modelled above.<br>\n",
    "<img src=\"Capture2.PNG\" title=\"Collation of Model Results\" /> <br>\n",
    "\n",
    "4. Based on features importance extracted from Random Forest, the variable \"duration\" is the most important variable. Removing it from the models resulted in substantial reduction in model performance, AUC reduced by approximately 16% and 18% for LR and RF respectively, whilst Sensitivity dropped by 43% and 37% respectively. As the variable \"duration\" is provided in testing dataset, the variable will be retained to provide stronger predictions for testing dataset. **However, for true future prediction purpose, this variable should be removed in modelling since future testing data would not have this variable available.**<br>\n",
    "<br>\n",
    "5. Generally, Random Forest performed better than Logistic Regression on each tested scenario. Although under-sampling performed rather well and comparable to the model with parameter \"class_weight\" set to 'balanced', the resulting sample size in under-sampling might be too small (4872 rows) to generalise to testing dataset (12357 rows).<br>\n",
    "<br>\n",
    "6. Based on the results obtained, Random Forest with class_weight set as 'balanced' has the highest AUC and will be deployed for prediction on testing dataset."
   ]
  },
  {
   "cell_type": "markdown",
   "metadata": {},
   "source": [
    "## Step 4: Score Testing Dataset"
   ]
  },
  {
   "cell_type": "code",
   "execution_count": 51,
   "metadata": {},
   "outputs": [
    {
     "name": "stdout",
     "output_type": "stream",
     "text": [
      "(28831, 52)\n",
      "(28831,)\n"
     ]
    }
   ],
   "source": [
    "# entire training dataset should be used to predict for testing dataset\n",
    "# X (features) and y (response) from training dataset\n",
    "print(X.shape)\n",
    "print(y.shape)"
   ]
  },
  {
   "cell_type": "code",
   "execution_count": 52,
   "metadata": {},
   "outputs": [
    {
     "name": "stdout",
     "output_type": "stream",
     "text": [
      "(12357, 52)\n"
     ]
    }
   ],
   "source": [
    "# create X (features) and y (response) from testing dataset\n",
    "X_test_final = test_final\n",
    "print(X_test_final.shape)"
   ]
  },
  {
   "cell_type": "code",
   "execution_count": 53,
   "metadata": {},
   "outputs": [
    {
     "data": {
      "text/plain": [
       "RandomForestClassifier(bootstrap=True, class_weight='balanced',\n",
       "            criterion='gini', max_depth=None, max_features='auto',\n",
       "            max_leaf_nodes=None, min_impurity_decrease=0.0,\n",
       "            min_impurity_split=None, min_samples_leaf=1,\n",
       "            min_samples_split=2, min_weight_fraction_leaf=0.0,\n",
       "            n_estimators=1000, n_jobs=1, oob_score=False, random_state=123,\n",
       "            verbose=0, warm_start=False)"
      ]
     },
     "execution_count": 53,
     "metadata": {},
     "output_type": "execute_result"
    }
   ],
   "source": [
    "# train model with Random Forest (class_weight = 'balanced')\n",
    "rf_final = RandomForestClassifier(n_estimators=1000, class_weight ='balanced', random_state=123)\n",
    "rf_final.fit(X, y)"
   ]
  },
  {
   "cell_type": "code",
   "execution_count": 54,
   "metadata": {
    "collapsed": true
   },
   "outputs": [],
   "source": [
    "# store the predicted probabilities for class 1\n",
    "y_test_prob = rf_final.predict_proba(X_test_final)[:, 1]"
   ]
  },
  {
   "cell_type": "code",
   "execution_count": 55,
   "metadata": {
    "collapsed": true
   },
   "outputs": [],
   "source": [
    "# output y_test_prob into a csv file\n",
    "prediction = pd.DataFrame(y_test_prob, columns=['class_1']).to_csv('bank_deposit_term_test_scoring.csv')\n",
    "\n",
    "#prediction = pd.DataFrame(predictions, columns=['predictions']).to_csv('prediction.csv')"
   ]
  },
  {
   "cell_type": "markdown",
   "metadata": {},
   "source": [
    "### Limitations and Futher Works:\n",
    "1. There are many options available in dealing with imbalanced data, libraries such as SMOTE, ADASYN, Tomek's Link, etc. are offered by imbalanced-learn package in scikit-learn that can be explored.<br>\n",
    "<br>\n",
    "2. Only two algorithms are deployed in this exercise. If time allows, more algorithms should be attempted. Some may include XGBoost, Support Vector Machine, Neural Network. The same performance metrices should apply and lastly followed by an ensemble method by assigning different weights to good performing models in congregating as one predictive model."
   ]
  }
 ],
 "metadata": {
  "kernelspec": {
   "display_name": "Python 3",
   "language": "python",
   "name": "python3"
  },
  "language_info": {
   "codemirror_mode": {
    "name": "ipython",
    "version": 3
   },
   "file_extension": ".py",
   "mimetype": "text/x-python",
   "name": "python",
   "nbconvert_exporter": "python",
   "pygments_lexer": "ipython3",
   "version": "3.6.12"
  }
 },
 "nbformat": 4,
 "nbformat_minor": 2
}
